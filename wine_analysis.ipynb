{
 "cells": [
  {
   "cell_type": "code",
   "execution_count": null,
   "id": "d739647b",
   "metadata": {},
   "outputs": [],
   "source": [
    "# Import dependencies"
   ]
  },
  {
   "cell_type": "code",
   "execution_count": null,
   "id": "6fb57695",
   "metadata": {},
   "outputs": [],
   "source": [
    "# Read in data from csv file"
   ]
  },
  {
   "cell_type": "code",
   "execution_count": null,
   "id": "9f1df4f8",
   "metadata": {},
   "outputs": [],
   "source": [
    "# Convert to dataframe"
   ]
  },
  {
   "cell_type": "code",
   "execution_count": null,
   "id": "fe91f3c2",
   "metadata": {},
   "outputs": [],
   "source": [
    "# Clean and transform data\n",
    "# Drop null values\n",
    "# Drop unnecessary columns"
   ]
  },
  {
   "cell_type": "code",
   "execution_count": null,
   "id": "9ad1336c",
   "metadata": {},
   "outputs": [],
   "source": [
    "# Transform words into vectors using NLP\n",
    "    # Tokenize descriptions to split sentences into word components\n",
    "    # Drop stop words\n",
    "    # Lemmitization\n",
    "# Separate data in target and features variables\n",
    "# Preprocess data\n",
    "# Divide into train and test data"
   ]
  },
  {
   "cell_type": "code",
   "execution_count": null,
   "id": "19cf31a2",
   "metadata": {},
   "outputs": [],
   "source": [
    "# Input vector data into ML algorithm\n",
    "# Apply K-Means Clustering\n",
    "# Generate scatter plot of results"
   ]
  },
  {
   "cell_type": "code",
   "execution_count": null,
   "id": "fcff74d1",
   "metadata": {},
   "outputs": [],
   "source": [
    "# Input vector data into ML algorithm\n",
    "# Apply 2nd Model (TBD)\n",
    "# Generate scatter plot of results"
   ]
  },
  {
   "cell_type": "code",
   "execution_count": null,
   "id": "2402e18d",
   "metadata": {},
   "outputs": [],
   "source": [
    "# Classify using Random Forest"
   ]
  },
  {
   "cell_type": "code",
   "execution_count": null,
   "id": "08f5cfa7",
   "metadata": {},
   "outputs": [],
   "source": [
    "# Print accuracy score and confusion matrix"
   ]
  }
 ],
 "metadata": {
  "kernelspec": {
   "display_name": "Python 3 (ipykernel)",
   "language": "python",
   "name": "python3"
  },
  "language_info": {
   "codemirror_mode": {
    "name": "ipython",
    "version": 3
   },
   "file_extension": ".py",
   "mimetype": "text/x-python",
   "name": "python",
   "nbconvert_exporter": "python",
   "pygments_lexer": "ipython3",
   "version": "3.10.12"
  }
 },
 "nbformat": 4,
 "nbformat_minor": 5
}
