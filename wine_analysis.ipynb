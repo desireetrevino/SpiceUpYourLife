{
 "cells": [
  {
   "cell_type": "code",
   "execution_count": 6,
   "id": "c18219ca",
   "metadata": {},
   "outputs": [
    {
     "name": "stdout",
     "output_type": "stream",
     "text": [
      "Requirement already satisfied: gensim in /Users/dzz_/anaconda3/envs/dev/lib/python3.10/site-packages (4.3.0)\n",
      "Requirement already satisfied: numpy>=1.18.5 in /Users/dzz_/anaconda3/envs/dev/lib/python3.10/site-packages (from gensim) (1.24.3)\n",
      "Requirement already satisfied: scipy>=1.7.0 in /Users/dzz_/anaconda3/envs/dev/lib/python3.10/site-packages (from gensim) (1.11.1)\n",
      "Requirement already satisfied: smart-open>=1.8.1 in /Users/dzz_/anaconda3/envs/dev/lib/python3.10/site-packages (from gensim) (5.2.1)\n",
      "Collecting FuzzyTM>=0.4.0 (from gensim)\n",
      "  Downloading FuzzyTM-2.0.5-py3-none-any.whl (29 kB)\n",
      "Requirement already satisfied: pandas in /Users/dzz_/anaconda3/envs/dev/lib/python3.10/site-packages (from FuzzyTM>=0.4.0->gensim) (2.0.3)\n",
      "Collecting pyfume (from FuzzyTM>=0.4.0->gensim)\n",
      "  Downloading pyFUME-0.2.25-py3-none-any.whl (67 kB)\n",
      "\u001b[2K     \u001b[90m━━━━━━━━━━━━━━━━━━━━━━━━━━━━━━━━━━━━━━━━\u001b[0m \u001b[32m67.1/67.1 kB\u001b[0m \u001b[31m3.1 MB/s\u001b[0m eta \u001b[36m0:00:00\u001b[0m\n",
      "\u001b[?25hRequirement already satisfied: python-dateutil>=2.8.2 in /Users/dzz_/anaconda3/envs/dev/lib/python3.10/site-packages (from pandas->FuzzyTM>=0.4.0->gensim) (2.8.2)\n",
      "Requirement already satisfied: pytz>=2020.1 in /Users/dzz_/anaconda3/envs/dev/lib/python3.10/site-packages (from pandas->FuzzyTM>=0.4.0->gensim) (2023.3.post1)\n",
      "Requirement already satisfied: tzdata>=2022.1 in /Users/dzz_/anaconda3/envs/dev/lib/python3.10/site-packages (from pandas->FuzzyTM>=0.4.0->gensim) (2023.3)\n",
      "Collecting simpful (from pyfume->FuzzyTM>=0.4.0->gensim)\n",
      "  Obtaining dependency information for simpful from https://files.pythonhosted.org/packages/8d/93/8448d3f1aa9d2911b8cba2602aaa1af85eb31a26d28b7b737f1fa5b40c02/simpful-2.11.1-py3-none-any.whl.metadata\n",
      "  Downloading simpful-2.11.1-py3-none-any.whl.metadata (4.8 kB)\n",
      "Collecting fst-pso (from pyfume->FuzzyTM>=0.4.0->gensim)\n",
      "  Downloading fst-pso-1.8.1.tar.gz (18 kB)\n",
      "  Preparing metadata (setup.py) ... \u001b[?25ldone\n",
      "\u001b[?25hRequirement already satisfied: six>=1.5 in /Users/dzz_/anaconda3/envs/dev/lib/python3.10/site-packages (from python-dateutil>=2.8.2->pandas->FuzzyTM>=0.4.0->gensim) (1.16.0)\n",
      "Collecting miniful (from fst-pso->pyfume->FuzzyTM>=0.4.0->gensim)\n",
      "  Downloading miniful-0.0.6.tar.gz (2.8 kB)\n",
      "  Preparing metadata (setup.py) ... \u001b[?25ldone\n",
      "\u001b[?25hDownloading simpful-2.11.1-py3-none-any.whl (32 kB)\n",
      "Building wheels for collected packages: fst-pso, miniful\n",
      "  Building wheel for fst-pso (setup.py) ... \u001b[?25ldone\n",
      "\u001b[?25h  Created wheel for fst-pso: filename=fst_pso-1.8.1-py3-none-any.whl size=20430 sha256=c3c20d4c2faceb8fb025ea5560faec61c9e23b63873e13f7733bdec3d03818b8\n",
      "  Stored in directory: /Users/dzz_/Library/Caches/pip/wheels/2d/1b/42/88a19f6b3896c2230d5053832f208976cddf70625885201d06\n",
      "  Building wheel for miniful (setup.py) ... \u001b[?25ldone\n",
      "\u001b[?25h  Created wheel for miniful: filename=miniful-0.0.6-py3-none-any.whl size=3513 sha256=9ff0d36517aa65c82d6fd5267ff67be0dd1c89394c5028eb3e2a261081b68d7a\n",
      "  Stored in directory: /Users/dzz_/Library/Caches/pip/wheels/5b/86/8f/7bb7f6472e2c84de7addfc1a5cd7fd647f00d8fb640da9ea9a\n",
      "Successfully built fst-pso miniful\n",
      "Installing collected packages: simpful, miniful, fst-pso, pyfume, FuzzyTM\n",
      "Successfully installed FuzzyTM-2.0.5 fst-pso-1.8.1 miniful-0.0.6 pyfume-0.2.25 simpful-2.11.1\n",
      "\u001b[31mERROR: Could not find a version that satisfies the requirement python (from versions: none)\u001b[0m\u001b[31m\n",
      "\u001b[0m\u001b[31mERROR: No matching distribution found for python\u001b[0m\u001b[31m\n",
      "\u001b[0m"
     ]
    }
   ],
   "source": [
    "#!pip install gensim\n",
    "#!pip install python-Levenshtein"
   ]
  },
  {
   "cell_type": "code",
   "execution_count": 2,
   "id": "d739647b",
   "metadata": {},
   "outputs": [],
   "source": [
    "# Import dependencies\n",
    "import gensim\n",
    "import pandas as pd"
   ]
  },
  {
   "cell_type": "markdown",
   "id": "1cd2faa2",
   "metadata": {},
   "source": [
    "This is the data set we are using: https://www.kaggle.com/datasets/zynicide/wine-reviews"
   ]
  },
  {
   "cell_type": "code",
   "execution_count": 3,
   "id": "6fb57695",
   "metadata": {},
   "outputs": [
    {
     "data": {
      "text/html": [
       "<div>\n",
       "<style scoped>\n",
       "    .dataframe tbody tr th:only-of-type {\n",
       "        vertical-align: middle;\n",
       "    }\n",
       "\n",
       "    .dataframe tbody tr th {\n",
       "        vertical-align: top;\n",
       "    }\n",
       "\n",
       "    .dataframe thead th {\n",
       "        text-align: right;\n",
       "    }\n",
       "</style>\n",
       "<table border=\"1\" class=\"dataframe\">\n",
       "  <thead>\n",
       "    <tr style=\"text-align: right;\">\n",
       "      <th></th>\n",
       "      <th>id</th>\n",
       "      <th>country</th>\n",
       "      <th>description</th>\n",
       "      <th>designation</th>\n",
       "      <th>points</th>\n",
       "      <th>price</th>\n",
       "      <th>province</th>\n",
       "      <th>region_1</th>\n",
       "      <th>region_2</th>\n",
       "      <th>taster_name</th>\n",
       "      <th>taster_twitter_handle</th>\n",
       "      <th>title</th>\n",
       "      <th>variety</th>\n",
       "      <th>winery</th>\n",
       "    </tr>\n",
       "  </thead>\n",
       "  <tbody>\n",
       "    <tr>\n",
       "      <th>0</th>\n",
       "      <td>0</td>\n",
       "      <td>Italy</td>\n",
       "      <td>Aromas include tropical fruit, broom, brimston...</td>\n",
       "      <td>Vulkà Bianco</td>\n",
       "      <td>87</td>\n",
       "      <td>NaN</td>\n",
       "      <td>Sicily &amp; Sardinia</td>\n",
       "      <td>Etna</td>\n",
       "      <td>NaN</td>\n",
       "      <td>Kerin O’Keefe</td>\n",
       "      <td>@kerinokeefe</td>\n",
       "      <td>Nicosia 2013 Vulkà Bianco  (Etna)</td>\n",
       "      <td>White Blend</td>\n",
       "      <td>Nicosia</td>\n",
       "    </tr>\n",
       "    <tr>\n",
       "      <th>1</th>\n",
       "      <td>1</td>\n",
       "      <td>Portugal</td>\n",
       "      <td>This is ripe and fruity, a wine that is smooth...</td>\n",
       "      <td>Avidagos</td>\n",
       "      <td>87</td>\n",
       "      <td>15.0</td>\n",
       "      <td>Douro</td>\n",
       "      <td>NaN</td>\n",
       "      <td>NaN</td>\n",
       "      <td>Roger Voss</td>\n",
       "      <td>@vossroger</td>\n",
       "      <td>Quinta dos Avidagos 2011 Avidagos Red (Douro)</td>\n",
       "      <td>Portuguese Red</td>\n",
       "      <td>Quinta dos Avidagos</td>\n",
       "    </tr>\n",
       "    <tr>\n",
       "      <th>2</th>\n",
       "      <td>2</td>\n",
       "      <td>US</td>\n",
       "      <td>Tart and snappy, the flavors of lime flesh and...</td>\n",
       "      <td>NaN</td>\n",
       "      <td>87</td>\n",
       "      <td>14.0</td>\n",
       "      <td>Oregon</td>\n",
       "      <td>Willamette Valley</td>\n",
       "      <td>Willamette Valley</td>\n",
       "      <td>Paul Gregutt</td>\n",
       "      <td>@paulgwine</td>\n",
       "      <td>Rainstorm 2013 Pinot Gris (Willamette Valley)</td>\n",
       "      <td>Pinot Gris</td>\n",
       "      <td>Rainstorm</td>\n",
       "    </tr>\n",
       "    <tr>\n",
       "      <th>3</th>\n",
       "      <td>3</td>\n",
       "      <td>US</td>\n",
       "      <td>Pineapple rind, lemon pith and orange blossom ...</td>\n",
       "      <td>Reserve Late Harvest</td>\n",
       "      <td>87</td>\n",
       "      <td>13.0</td>\n",
       "      <td>Michigan</td>\n",
       "      <td>Lake Michigan Shore</td>\n",
       "      <td>NaN</td>\n",
       "      <td>Alexander Peartree</td>\n",
       "      <td>NaN</td>\n",
       "      <td>St. Julian 2013 Reserve Late Harvest Riesling ...</td>\n",
       "      <td>Riesling</td>\n",
       "      <td>St. Julian</td>\n",
       "    </tr>\n",
       "    <tr>\n",
       "      <th>4</th>\n",
       "      <td>4</td>\n",
       "      <td>US</td>\n",
       "      <td>Much like the regular bottling from 2012, this...</td>\n",
       "      <td>Vintner's Reserve Wild Child Block</td>\n",
       "      <td>87</td>\n",
       "      <td>65.0</td>\n",
       "      <td>Oregon</td>\n",
       "      <td>Willamette Valley</td>\n",
       "      <td>Willamette Valley</td>\n",
       "      <td>Paul Gregutt</td>\n",
       "      <td>@paulgwine</td>\n",
       "      <td>Sweet Cheeks 2012 Vintner's Reserve Wild Child...</td>\n",
       "      <td>Pinot Noir</td>\n",
       "      <td>Sweet Cheeks</td>\n",
       "    </tr>\n",
       "  </tbody>\n",
       "</table>\n",
       "</div>"
      ],
      "text/plain": [
       "   id   country                                        description  \\\n",
       "0   0     Italy  Aromas include tropical fruit, broom, brimston...   \n",
       "1   1  Portugal  This is ripe and fruity, a wine that is smooth...   \n",
       "2   2        US  Tart and snappy, the flavors of lime flesh and...   \n",
       "3   3        US  Pineapple rind, lemon pith and orange blossom ...   \n",
       "4   4        US  Much like the regular bottling from 2012, this...   \n",
       "\n",
       "                          designation  points  price           province  \\\n",
       "0                        Vulkà Bianco      87    NaN  Sicily & Sardinia   \n",
       "1                            Avidagos      87   15.0              Douro   \n",
       "2                                 NaN      87   14.0             Oregon   \n",
       "3                Reserve Late Harvest      87   13.0           Michigan   \n",
       "4  Vintner's Reserve Wild Child Block      87   65.0             Oregon   \n",
       "\n",
       "              region_1           region_2         taster_name  \\\n",
       "0                 Etna                NaN       Kerin O’Keefe   \n",
       "1                  NaN                NaN          Roger Voss   \n",
       "2    Willamette Valley  Willamette Valley        Paul Gregutt   \n",
       "3  Lake Michigan Shore                NaN  Alexander Peartree   \n",
       "4    Willamette Valley  Willamette Valley        Paul Gregutt   \n",
       "\n",
       "  taster_twitter_handle                                              title  \\\n",
       "0          @kerinokeefe                  Nicosia 2013 Vulkà Bianco  (Etna)   \n",
       "1            @vossroger      Quinta dos Avidagos 2011 Avidagos Red (Douro)   \n",
       "2           @paulgwine       Rainstorm 2013 Pinot Gris (Willamette Valley)   \n",
       "3                   NaN  St. Julian 2013 Reserve Late Harvest Riesling ...   \n",
       "4           @paulgwine   Sweet Cheeks 2012 Vintner's Reserve Wild Child...   \n",
       "\n",
       "          variety               winery  \n",
       "0     White Blend              Nicosia  \n",
       "1  Portuguese Red  Quinta dos Avidagos  \n",
       "2      Pinot Gris            Rainstorm  \n",
       "3        Riesling           St. Julian  \n",
       "4      Pinot Noir         Sweet Cheeks  "
      ]
     },
     "execution_count": 3,
     "metadata": {},
     "output_type": "execute_result"
    }
   ],
   "source": [
    "# Read in data from csv file and create a dataframe\n",
    "df = pd.read_csv(\"Resources/winemag-data-130k-v2.csv\")\n",
    "df.head()"
   ]
  },
  {
   "cell_type": "code",
   "execution_count": 11,
   "id": "a266c44b",
   "metadata": {},
   "outputs": [
    {
     "data": {
      "text/plain": [
       "0         [aromas, include, tropical, fruit, broom, brim...\n",
       "1         [this, is, ripe, and, fruity, wine, that, is, ...\n",
       "2         [tart, and, snappy, the, flavors, of, lime, fl...\n",
       "3         [pineapple, rind, lemon, pith, and, orange, bl...\n",
       "4         [much, like, the, regular, bottling, from, thi...\n",
       "                                ...                        \n",
       "129966    [notes, of, honeysuckle, and, cantaloupe, swee...\n",
       "129967    [citation, is, given, as, much, as, decade, of...\n",
       "129968    [well, drained, gravel, soil, gives, this, win...\n",
       "129969    [dry, style, of, pinot, gris, this, is, crisp,...\n",
       "129970    [big, rich, and, off, dry, this, is, powered, ...\n",
       "Name: description, Length: 129971, dtype: object"
      ]
     },
     "execution_count": 11,
     "metadata": {},
     "output_type": "execute_result"
    }
   ],
   "source": [
    "# word2vec model:\n",
    "# Preprocess Data to tokenize words:\n",
    "descriptions = df.description.apply(gensim.utils.simple_preprocess)\n",
    "descriptions"
   ]
  },
  {
   "cell_type": "code",
   "execution_count": 37,
   "id": "aeefeb8e",
   "metadata": {},
   "outputs": [],
   "source": [
    "# Create the model\n",
    "model = gensim.models.Word2Vec(window=3, min_count=2, workers=4)"
   ]
  },
  {
   "cell_type": "code",
   "execution_count": 38,
   "id": "24758136",
   "metadata": {},
   "outputs": [],
   "source": [
    "# Build its vocabulary\n",
    "model.build_vocab(descriptions, progress_per=100)"
   ]
  },
  {
   "cell_type": "code",
   "execution_count": 39,
   "id": "9222c7d0",
   "metadata": {},
   "outputs": [
    {
     "data": {
      "text/plain": [
       "(18385688, 25486870)"
      ]
     },
     "execution_count": 39,
     "metadata": {},
     "output_type": "execute_result"
    }
   ],
   "source": [
    "# Train the model\n",
    "model.train(descriptions, total_examples=model.corpus_count, epochs= model.epochs)"
   ]
  },
  {
   "cell_type": "code",
   "execution_count": 16,
   "id": "4eda0331",
   "metadata": {},
   "outputs": [],
   "source": [
    "# Save the model to use later\n",
    "model.save(\"Resources/descriptions.model\")"
   ]
  },
  {
   "cell_type": "code",
   "execution_count": 40,
   "id": "f32c0ffa",
   "metadata": {},
   "outputs": [
    {
     "data": {
      "text/plain": [
       "[('dryness', 0.49381473660469055),\n",
       " ('concentrated', 0.46048474311828613),\n",
       " ('sweet', 0.45760372281074524),\n",
       " ('weighty', 0.4367315173149109),\n",
       " ('textured', 0.4301201403141022),\n",
       " ('lean', 0.42820876836776733),\n",
       " ('clean', 0.41724711656570435),\n",
       " ('refreshing', 0.4122775197029114),\n",
       " ('dryish', 0.41144445538520813),\n",
       " ('structured', 0.4093798100948334)]"
      ]
     },
     "execution_count": 40,
     "metadata": {},
     "output_type": "execute_result"
    }
   ],
   "source": [
    "# Test the model looking for similar words\n",
    "model.wv.most_similar(\"dry\")"
   ]
  },
  {
   "cell_type": "code",
   "execution_count": 41,
   "id": "2c488689",
   "metadata": {},
   "outputs": [
    {
     "data": {
      "text/plain": [
       "0.32179892"
      ]
     },
     "execution_count": 41,
     "metadata": {},
     "output_type": "execute_result"
    }
   ],
   "source": [
    "# Test the model with similarity of different words\n",
    "model.wv.similarity(w1=\"sweet\",w2=\"fruity\")"
   ]
  },
  {
   "cell_type": "code",
   "execution_count": null,
   "id": "fe91f3c2",
   "metadata": {},
   "outputs": [],
   "source": [
    "# Clean and transform data\n",
    "# Drop null values\n",
    "# Drop unnecessary columns"
   ]
  },
  {
   "cell_type": "code",
   "execution_count": null,
   "id": "9ad1336c",
   "metadata": {},
   "outputs": [],
   "source": [
    "# Transform words into vectors using NLP\n",
    "    # Tokenize descriptions to split sentences into word components\n",
    "    # Drop stop words\n",
    "    # Lemmitization\n",
    "# Separate data in target and features variables\n",
    "# Preprocess data\n",
    "# Divide into train and test data"
   ]
  },
  {
   "cell_type": "code",
   "execution_count": null,
   "id": "19cf31a2",
   "metadata": {},
   "outputs": [],
   "source": [
    "# Input vector data into ML algorithm\n",
    "# Apply K-Means Clustering\n",
    "# Generate scatter plot of results"
   ]
  },
  {
   "cell_type": "code",
   "execution_count": null,
   "id": "fcff74d1",
   "metadata": {},
   "outputs": [],
   "source": [
    "# Input vector data into ML algorithm\n",
    "# Apply 2nd Model (TBD)\n",
    "# Generate scatter plot of results"
   ]
  },
  {
   "cell_type": "code",
   "execution_count": null,
   "id": "2402e18d",
   "metadata": {},
   "outputs": [],
   "source": [
    "# Classify using Random Forest"
   ]
  },
  {
   "cell_type": "code",
   "execution_count": null,
   "id": "08f5cfa7",
   "metadata": {},
   "outputs": [],
   "source": [
    "# Print accuracy score and confusion matrix"
   ]
  }
 ],
 "metadata": {
  "kernelspec": {
   "display_name": "Python 3 (ipykernel)",
   "language": "python",
   "name": "python3"
  },
  "language_info": {
   "codemirror_mode": {
    "name": "ipython",
    "version": 3
   },
   "file_extension": ".py",
   "mimetype": "text/x-python",
   "name": "python",
   "nbconvert_exporter": "python",
   "pygments_lexer": "ipython3",
   "version": "3.10.13"
  }
 },
 "nbformat": 4,
 "nbformat_minor": 5
}
