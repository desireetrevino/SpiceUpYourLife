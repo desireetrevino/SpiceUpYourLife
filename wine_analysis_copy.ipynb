{
 "cells": [
  {
   "cell_type": "code",
   "execution_count": 1,
   "id": "d739647b",
   "metadata": {},
   "outputs": [],
   "source": [
    "# Import dependencies\n",
    "import pandas as pd\n",
    "from pathlib import Path\n",
    "import gensim\n",
    "import nltk\n",
    "from nltk.corpus import stopwords\n",
    "from nltk.tokenize import word_tokenize\n",
    "from nltk.stem import WordNetLemmatizer"
   ]
  },
  {
   "cell_type": "code",
   "execution_count": 2,
   "id": "6fb57695",
   "metadata": {},
   "outputs": [
    {
     "ename": "FileNotFoundError",
     "evalue": "[Errno 2] No such file or directory: 'Resources/wine_tasting_data.csv'",
     "output_type": "error",
     "traceback": [
      "\u001b[0;31m---------------------------------------------------------------------------\u001b[0m",
      "\u001b[0;31mFileNotFoundError\u001b[0m                         Traceback (most recent call last)",
      "\u001b[1;32m/Users/dzz_/Documents/DataScience_Bootcamp/Challenges/SpiceUpYourLife/wine_analysis_copy.ipynb Cell 2\u001b[0m line \u001b[0;36m4\n\u001b[1;32m      <a href='vscode-notebook-cell:/Users/dzz_/Documents/DataScience_Bootcamp/Challenges/SpiceUpYourLife/wine_analysis_copy.ipynb#W1sZmlsZQ%3D%3D?line=1'>2</a>\u001b[0m wine_data \u001b[39m=\u001b[39m Path(\u001b[39m\"\u001b[39m\u001b[39mResources/wine_tasting_data.csv\u001b[39m\u001b[39m\"\u001b[39m)\n\u001b[1;32m      <a href='vscode-notebook-cell:/Users/dzz_/Documents/DataScience_Bootcamp/Challenges/SpiceUpYourLife/wine_analysis_copy.ipynb#W1sZmlsZQ%3D%3D?line=2'>3</a>\u001b[0m \u001b[39m# Convert to dataframe\u001b[39;00m\n\u001b[0;32m----> <a href='vscode-notebook-cell:/Users/dzz_/Documents/DataScience_Bootcamp/Challenges/SpiceUpYourLife/wine_analysis_copy.ipynb#W1sZmlsZQ%3D%3D?line=3'>4</a>\u001b[0m wine_df \u001b[39m=\u001b[39m pd\u001b[39m.\u001b[39;49mread_csv(wine_data)\n\u001b[1;32m      <a href='vscode-notebook-cell:/Users/dzz_/Documents/DataScience_Bootcamp/Challenges/SpiceUpYourLife/wine_analysis_copy.ipynb#W1sZmlsZQ%3D%3D?line=4'>5</a>\u001b[0m wine_df\u001b[39m.\u001b[39mhead(\u001b[39m5\u001b[39m)\n",
      "File \u001b[0;32m~/anaconda3/envs/dev/lib/python3.10/site-packages/pandas/io/parsers/readers.py:912\u001b[0m, in \u001b[0;36mread_csv\u001b[0;34m(filepath_or_buffer, sep, delimiter, header, names, index_col, usecols, dtype, engine, converters, true_values, false_values, skipinitialspace, skiprows, skipfooter, nrows, na_values, keep_default_na, na_filter, verbose, skip_blank_lines, parse_dates, infer_datetime_format, keep_date_col, date_parser, date_format, dayfirst, cache_dates, iterator, chunksize, compression, thousands, decimal, lineterminator, quotechar, quoting, doublequote, escapechar, comment, encoding, encoding_errors, dialect, on_bad_lines, delim_whitespace, low_memory, memory_map, float_precision, storage_options, dtype_backend)\u001b[0m\n\u001b[1;32m    899\u001b[0m kwds_defaults \u001b[39m=\u001b[39m _refine_defaults_read(\n\u001b[1;32m    900\u001b[0m     dialect,\n\u001b[1;32m    901\u001b[0m     delimiter,\n\u001b[0;32m   (...)\u001b[0m\n\u001b[1;32m    908\u001b[0m     dtype_backend\u001b[39m=\u001b[39mdtype_backend,\n\u001b[1;32m    909\u001b[0m )\n\u001b[1;32m    910\u001b[0m kwds\u001b[39m.\u001b[39mupdate(kwds_defaults)\n\u001b[0;32m--> 912\u001b[0m \u001b[39mreturn\u001b[39;00m _read(filepath_or_buffer, kwds)\n",
      "File \u001b[0;32m~/anaconda3/envs/dev/lib/python3.10/site-packages/pandas/io/parsers/readers.py:577\u001b[0m, in \u001b[0;36m_read\u001b[0;34m(filepath_or_buffer, kwds)\u001b[0m\n\u001b[1;32m    574\u001b[0m _validate_names(kwds\u001b[39m.\u001b[39mget(\u001b[39m\"\u001b[39m\u001b[39mnames\u001b[39m\u001b[39m\"\u001b[39m, \u001b[39mNone\u001b[39;00m))\n\u001b[1;32m    576\u001b[0m \u001b[39m# Create the parser.\u001b[39;00m\n\u001b[0;32m--> 577\u001b[0m parser \u001b[39m=\u001b[39m TextFileReader(filepath_or_buffer, \u001b[39m*\u001b[39;49m\u001b[39m*\u001b[39;49mkwds)\n\u001b[1;32m    579\u001b[0m \u001b[39mif\u001b[39;00m chunksize \u001b[39mor\u001b[39;00m iterator:\n\u001b[1;32m    580\u001b[0m     \u001b[39mreturn\u001b[39;00m parser\n",
      "File \u001b[0;32m~/anaconda3/envs/dev/lib/python3.10/site-packages/pandas/io/parsers/readers.py:1407\u001b[0m, in \u001b[0;36mTextFileReader.__init__\u001b[0;34m(self, f, engine, **kwds)\u001b[0m\n\u001b[1;32m   1404\u001b[0m     \u001b[39mself\u001b[39m\u001b[39m.\u001b[39moptions[\u001b[39m\"\u001b[39m\u001b[39mhas_index_names\u001b[39m\u001b[39m\"\u001b[39m] \u001b[39m=\u001b[39m kwds[\u001b[39m\"\u001b[39m\u001b[39mhas_index_names\u001b[39m\u001b[39m\"\u001b[39m]\n\u001b[1;32m   1406\u001b[0m \u001b[39mself\u001b[39m\u001b[39m.\u001b[39mhandles: IOHandles \u001b[39m|\u001b[39m \u001b[39mNone\u001b[39;00m \u001b[39m=\u001b[39m \u001b[39mNone\u001b[39;00m\n\u001b[0;32m-> 1407\u001b[0m \u001b[39mself\u001b[39m\u001b[39m.\u001b[39m_engine \u001b[39m=\u001b[39m \u001b[39mself\u001b[39;49m\u001b[39m.\u001b[39;49m_make_engine(f, \u001b[39mself\u001b[39;49m\u001b[39m.\u001b[39;49mengine)\n",
      "File \u001b[0;32m~/anaconda3/envs/dev/lib/python3.10/site-packages/pandas/io/parsers/readers.py:1661\u001b[0m, in \u001b[0;36mTextFileReader._make_engine\u001b[0;34m(self, f, engine)\u001b[0m\n\u001b[1;32m   1659\u001b[0m     \u001b[39mif\u001b[39;00m \u001b[39m\"\u001b[39m\u001b[39mb\u001b[39m\u001b[39m\"\u001b[39m \u001b[39mnot\u001b[39;00m \u001b[39min\u001b[39;00m mode:\n\u001b[1;32m   1660\u001b[0m         mode \u001b[39m+\u001b[39m\u001b[39m=\u001b[39m \u001b[39m\"\u001b[39m\u001b[39mb\u001b[39m\u001b[39m\"\u001b[39m\n\u001b[0;32m-> 1661\u001b[0m \u001b[39mself\u001b[39m\u001b[39m.\u001b[39mhandles \u001b[39m=\u001b[39m get_handle(\n\u001b[1;32m   1662\u001b[0m     f,\n\u001b[1;32m   1663\u001b[0m     mode,\n\u001b[1;32m   1664\u001b[0m     encoding\u001b[39m=\u001b[39;49m\u001b[39mself\u001b[39;49m\u001b[39m.\u001b[39;49moptions\u001b[39m.\u001b[39;49mget(\u001b[39m\"\u001b[39;49m\u001b[39mencoding\u001b[39;49m\u001b[39m\"\u001b[39;49m, \u001b[39mNone\u001b[39;49;00m),\n\u001b[1;32m   1665\u001b[0m     compression\u001b[39m=\u001b[39;49m\u001b[39mself\u001b[39;49m\u001b[39m.\u001b[39;49moptions\u001b[39m.\u001b[39;49mget(\u001b[39m\"\u001b[39;49m\u001b[39mcompression\u001b[39;49m\u001b[39m\"\u001b[39;49m, \u001b[39mNone\u001b[39;49;00m),\n\u001b[1;32m   1666\u001b[0m     memory_map\u001b[39m=\u001b[39;49m\u001b[39mself\u001b[39;49m\u001b[39m.\u001b[39;49moptions\u001b[39m.\u001b[39;49mget(\u001b[39m\"\u001b[39;49m\u001b[39mmemory_map\u001b[39;49m\u001b[39m\"\u001b[39;49m, \u001b[39mFalse\u001b[39;49;00m),\n\u001b[1;32m   1667\u001b[0m     is_text\u001b[39m=\u001b[39;49mis_text,\n\u001b[1;32m   1668\u001b[0m     errors\u001b[39m=\u001b[39;49m\u001b[39mself\u001b[39;49m\u001b[39m.\u001b[39;49moptions\u001b[39m.\u001b[39;49mget(\u001b[39m\"\u001b[39;49m\u001b[39mencoding_errors\u001b[39;49m\u001b[39m\"\u001b[39;49m, \u001b[39m\"\u001b[39;49m\u001b[39mstrict\u001b[39;49m\u001b[39m\"\u001b[39;49m),\n\u001b[1;32m   1669\u001b[0m     storage_options\u001b[39m=\u001b[39;49m\u001b[39mself\u001b[39;49m\u001b[39m.\u001b[39;49moptions\u001b[39m.\u001b[39;49mget(\u001b[39m\"\u001b[39;49m\u001b[39mstorage_options\u001b[39;49m\u001b[39m\"\u001b[39;49m, \u001b[39mNone\u001b[39;49;00m),\n\u001b[1;32m   1670\u001b[0m )\n\u001b[1;32m   1671\u001b[0m \u001b[39massert\u001b[39;00m \u001b[39mself\u001b[39m\u001b[39m.\u001b[39mhandles \u001b[39mis\u001b[39;00m \u001b[39mnot\u001b[39;00m \u001b[39mNone\u001b[39;00m\n\u001b[1;32m   1672\u001b[0m f \u001b[39m=\u001b[39m \u001b[39mself\u001b[39m\u001b[39m.\u001b[39mhandles\u001b[39m.\u001b[39mhandle\n",
      "File \u001b[0;32m~/anaconda3/envs/dev/lib/python3.10/site-packages/pandas/io/common.py:859\u001b[0m, in \u001b[0;36mget_handle\u001b[0;34m(path_or_buf, mode, encoding, compression, memory_map, is_text, errors, storage_options)\u001b[0m\n\u001b[1;32m    854\u001b[0m \u001b[39melif\u001b[39;00m \u001b[39misinstance\u001b[39m(handle, \u001b[39mstr\u001b[39m):\n\u001b[1;32m    855\u001b[0m     \u001b[39m# Check whether the filename is to be opened in binary mode.\u001b[39;00m\n\u001b[1;32m    856\u001b[0m     \u001b[39m# Binary mode does not support 'encoding' and 'newline'.\u001b[39;00m\n\u001b[1;32m    857\u001b[0m     \u001b[39mif\u001b[39;00m ioargs\u001b[39m.\u001b[39mencoding \u001b[39mand\u001b[39;00m \u001b[39m\"\u001b[39m\u001b[39mb\u001b[39m\u001b[39m\"\u001b[39m \u001b[39mnot\u001b[39;00m \u001b[39min\u001b[39;00m ioargs\u001b[39m.\u001b[39mmode:\n\u001b[1;32m    858\u001b[0m         \u001b[39m# Encoding\u001b[39;00m\n\u001b[0;32m--> 859\u001b[0m         handle \u001b[39m=\u001b[39m \u001b[39mopen\u001b[39;49m(\n\u001b[1;32m    860\u001b[0m             handle,\n\u001b[1;32m    861\u001b[0m             ioargs\u001b[39m.\u001b[39;49mmode,\n\u001b[1;32m    862\u001b[0m             encoding\u001b[39m=\u001b[39;49mioargs\u001b[39m.\u001b[39;49mencoding,\n\u001b[1;32m    863\u001b[0m             errors\u001b[39m=\u001b[39;49merrors,\n\u001b[1;32m    864\u001b[0m             newline\u001b[39m=\u001b[39;49m\u001b[39m\"\u001b[39;49m\u001b[39m\"\u001b[39;49m,\n\u001b[1;32m    865\u001b[0m         )\n\u001b[1;32m    866\u001b[0m     \u001b[39melse\u001b[39;00m:\n\u001b[1;32m    867\u001b[0m         \u001b[39m# Binary mode\u001b[39;00m\n\u001b[1;32m    868\u001b[0m         handle \u001b[39m=\u001b[39m \u001b[39mopen\u001b[39m(handle, ioargs\u001b[39m.\u001b[39mmode)\n",
      "\u001b[0;31mFileNotFoundError\u001b[0m: [Errno 2] No such file or directory: 'Resources/wine_tasting_data.csv'"
     ]
    }
   ],
   "source": [
    "# Read in data from csv file\n",
    "wine_data = Path(\"Resources/winemag-data-130k-v2.csv\")\n",
    "# Convert to dataframe\n",
    "wine_df = pd.read_csv(wine_data)\n",
    "wine_df.head(5)"
   ]
  },
  {
   "cell_type": "code",
   "execution_count": 3,
   "id": "fe91f3c2",
   "metadata": {},
   "outputs": [
    {
     "ename": "NameError",
     "evalue": "name 'wine_df' is not defined",
     "output_type": "error",
     "traceback": [
      "\u001b[0;31m---------------------------------------------------------------------------\u001b[0m",
      "\u001b[0;31mNameError\u001b[0m                                 Traceback (most recent call last)",
      "\u001b[1;32m/Users/dzz_/Documents/DataScience_Bootcamp/Challenges/SpiceUpYourLife/wine_analysis_copy.ipynb Cell 3\u001b[0m line \u001b[0;36m3\n\u001b[1;32m      <a href='vscode-notebook-cell:/Users/dzz_/Documents/DataScience_Bootcamp/Challenges/SpiceUpYourLife/wine_analysis_copy.ipynb#W2sZmlsZQ%3D%3D?line=0'>1</a>\u001b[0m \u001b[39m# Clean and transform data\u001b[39;00m\n\u001b[1;32m      <a href='vscode-notebook-cell:/Users/dzz_/Documents/DataScience_Bootcamp/Challenges/SpiceUpYourLife/wine_analysis_copy.ipynb#W2sZmlsZQ%3D%3D?line=1'>2</a>\u001b[0m \u001b[39m# Drop unnecessary columns\u001b[39;00m\n\u001b[0;32m----> <a href='vscode-notebook-cell:/Users/dzz_/Documents/DataScience_Bootcamp/Challenges/SpiceUpYourLife/wine_analysis_copy.ipynb#W2sZmlsZQ%3D%3D?line=2'>3</a>\u001b[0m df \u001b[39m=\u001b[39m wine_df\u001b[39m.\u001b[39mloc[:,[\u001b[39m\"\u001b[39m\u001b[39mcountry\u001b[39m\u001b[39m\"\u001b[39m, \u001b[39m\"\u001b[39m\u001b[39mdescription\u001b[39m\u001b[39m\"\u001b[39m, \u001b[39m\"\u001b[39m\u001b[39mpoints\u001b[39m\u001b[39m\"\u001b[39m,\n\u001b[1;32m      <a href='vscode-notebook-cell:/Users/dzz_/Documents/DataScience_Bootcamp/Challenges/SpiceUpYourLife/wine_analysis_copy.ipynb#W2sZmlsZQ%3D%3D?line=3'>4</a>\u001b[0m                                     \u001b[39m\"\u001b[39m\u001b[39mprovince\u001b[39m\u001b[39m\"\u001b[39m, \u001b[39m\"\u001b[39m\u001b[39mvariety\u001b[39m\u001b[39m\"\u001b[39m]]\n\u001b[1;32m      <a href='vscode-notebook-cell:/Users/dzz_/Documents/DataScience_Bootcamp/Challenges/SpiceUpYourLife/wine_analysis_copy.ipynb#W2sZmlsZQ%3D%3D?line=4'>5</a>\u001b[0m \u001b[39m# Drop null values\u001b[39;00m\n\u001b[1;32m      <a href='vscode-notebook-cell:/Users/dzz_/Documents/DataScience_Bootcamp/Challenges/SpiceUpYourLife/wine_analysis_copy.ipynb#W2sZmlsZQ%3D%3D?line=5'>6</a>\u001b[0m df \u001b[39m=\u001b[39m df\u001b[39m.\u001b[39mdropna(how\u001b[39m=\u001b[39m\u001b[39m'\u001b[39m\u001b[39many\u001b[39m\u001b[39m'\u001b[39m)\n",
      "\u001b[0;31mNameError\u001b[0m: name 'wine_df' is not defined"
     ]
    }
   ],
   "source": [
    "# Clean and transform data\n",
    "# Drop unnecessary columns\n",
    "df = wine_df.loc[:,[\"country\", \"description\", \"points\",\n",
    "                                    \"province\", \"variety\"]]\n",
    "# Drop null values\n",
    "df = df.dropna(how='any')\n",
    "df.head(5)"
   ]
  },
  {
   "cell_type": "code",
   "execution_count": 16,
   "id": "1011edd9",
   "metadata": {},
   "outputs": [
    {
     "name": "stderr",
     "output_type": "stream",
     "text": [
      "[nltk_data] Downloading package stopwords to\n",
      "[nltk_data]     C:\\Users\\katyp\\AppData\\Roaming\\nltk_data...\n",
      "[nltk_data]   Package stopwords is already up-to-date!\n"
     ]
    },
    {
     "data": {
      "text/html": [
       "<div>\n",
       "<style scoped>\n",
       "    .dataframe tbody tr th:only-of-type {\n",
       "        vertical-align: middle;\n",
       "    }\n",
       "\n",
       "    .dataframe tbody tr th {\n",
       "        vertical-align: top;\n",
       "    }\n",
       "\n",
       "    .dataframe thead th {\n",
       "        text-align: right;\n",
       "    }\n",
       "</style>\n",
       "<table border=\"1\" class=\"dataframe\">\n",
       "  <thead>\n",
       "    <tr style=\"text-align: right;\">\n",
       "      <th></th>\n",
       "      <th>country</th>\n",
       "      <th>description</th>\n",
       "      <th>points</th>\n",
       "      <th>province</th>\n",
       "      <th>variety</th>\n",
       "    </tr>\n",
       "  </thead>\n",
       "  <tbody>\n",
       "    <tr>\n",
       "      <th>0</th>\n",
       "      <td>Italy</td>\n",
       "      <td>Aromas include tropical fruit, broom, brimston...</td>\n",
       "      <td>87</td>\n",
       "      <td>Sicily &amp; Sardinia</td>\n",
       "      <td>White Blend</td>\n",
       "    </tr>\n",
       "    <tr>\n",
       "      <th>1</th>\n",
       "      <td>Portugal</td>\n",
       "      <td>This ripe fruity, wine smooth still structured...</td>\n",
       "      <td>87</td>\n",
       "      <td>Douro</td>\n",
       "      <td>Portuguese Red</td>\n",
       "    </tr>\n",
       "    <tr>\n",
       "      <th>2</th>\n",
       "      <td>US</td>\n",
       "      <td>Tart snappy, flavors lime flesh rind dominate....</td>\n",
       "      <td>87</td>\n",
       "      <td>Oregon</td>\n",
       "      <td>Pinot Gris</td>\n",
       "    </tr>\n",
       "    <tr>\n",
       "      <th>3</th>\n",
       "      <td>US</td>\n",
       "      <td>Pineapple rind, lemon pith orange blossom star...</td>\n",
       "      <td>87</td>\n",
       "      <td>Michigan</td>\n",
       "      <td>Riesling</td>\n",
       "    </tr>\n",
       "    <tr>\n",
       "      <th>4</th>\n",
       "      <td>US</td>\n",
       "      <td>Much like regular bottling 2012, comes across ...</td>\n",
       "      <td>87</td>\n",
       "      <td>Oregon</td>\n",
       "      <td>Pinot Noir</td>\n",
       "    </tr>\n",
       "  </tbody>\n",
       "</table>\n",
       "</div>"
      ],
      "text/plain": [
       "    country                                        description  points  \\\n",
       "0     Italy  Aromas include tropical fruit, broom, brimston...      87   \n",
       "1  Portugal  This ripe fruity, wine smooth still structured...      87   \n",
       "2        US  Tart snappy, flavors lime flesh rind dominate....      87   \n",
       "3        US  Pineapple rind, lemon pith orange blossom star...      87   \n",
       "4        US  Much like regular bottling 2012, comes across ...      87   \n",
       "\n",
       "            province         variety  \n",
       "0  Sicily & Sardinia     White Blend  \n",
       "1              Douro  Portuguese Red  \n",
       "2             Oregon      Pinot Gris  \n",
       "3           Michigan        Riesling  \n",
       "4             Oregon      Pinot Noir  "
      ]
     },
     "execution_count": 16,
     "metadata": {},
     "output_type": "execute_result"
    }
   ],
   "source": [
    "# Transform words into vectors using NLP\n",
    "# Drop stop words\n",
    "nltk.download('stopwords')\n",
    "stop_words = set(stopwords.words('english')) \n",
    "df['description'] = df['description'].apply(lambda x: ' '.join([word for word in x.split() if word not in (stop_words)]))\n",
    "df.head()"
   ]
  },
  {
   "cell_type": "code",
   "execution_count": 17,
   "id": "bdb9f395",
   "metadata": {},
   "outputs": [
    {
     "name": "stderr",
     "output_type": "stream",
     "text": [
      "[nltk_data] Downloading package wordnet to\n",
      "[nltk_data]     C:\\Users\\katyp\\AppData\\Roaming\\nltk_data...\n",
      "[nltk_data]   Package wordnet is already up-to-date!\n"
     ]
    },
    {
     "data": {
      "text/html": [
       "<div>\n",
       "<style scoped>\n",
       "    .dataframe tbody tr th:only-of-type {\n",
       "        vertical-align: middle;\n",
       "    }\n",
       "\n",
       "    .dataframe tbody tr th {\n",
       "        vertical-align: top;\n",
       "    }\n",
       "\n",
       "    .dataframe thead th {\n",
       "        text-align: right;\n",
       "    }\n",
       "</style>\n",
       "<table border=\"1\" class=\"dataframe\">\n",
       "  <thead>\n",
       "    <tr style=\"text-align: right;\">\n",
       "      <th></th>\n",
       "      <th>country</th>\n",
       "      <th>description</th>\n",
       "      <th>points</th>\n",
       "      <th>province</th>\n",
       "      <th>variety</th>\n",
       "    </tr>\n",
       "  </thead>\n",
       "  <tbody>\n",
       "    <tr>\n",
       "      <th>0</th>\n",
       "      <td>Italy</td>\n",
       "      <td>Aromas include tropical fruit, broom, brimston...</td>\n",
       "      <td>87</td>\n",
       "      <td>Sicily &amp; Sardinia</td>\n",
       "      <td>White Blend</td>\n",
       "    </tr>\n",
       "    <tr>\n",
       "      <th>1</th>\n",
       "      <td>Portugal</td>\n",
       "      <td>This ripe fruity, wine smooth still structured...</td>\n",
       "      <td>87</td>\n",
       "      <td>Douro</td>\n",
       "      <td>Portuguese Red</td>\n",
       "    </tr>\n",
       "    <tr>\n",
       "      <th>2</th>\n",
       "      <td>US</td>\n",
       "      <td>Tart snappy, flavor lime flesh rind dominate. ...</td>\n",
       "      <td>87</td>\n",
       "      <td>Oregon</td>\n",
       "      <td>Pinot Gris</td>\n",
       "    </tr>\n",
       "    <tr>\n",
       "      <th>3</th>\n",
       "      <td>US</td>\n",
       "      <td>Pineapple rind, lemon pith orange blossom star...</td>\n",
       "      <td>87</td>\n",
       "      <td>Michigan</td>\n",
       "      <td>Riesling</td>\n",
       "    </tr>\n",
       "    <tr>\n",
       "      <th>4</th>\n",
       "      <td>US</td>\n",
       "      <td>Much like regular bottle 2012, come across rat...</td>\n",
       "      <td>87</td>\n",
       "      <td>Oregon</td>\n",
       "      <td>Pinot Noir</td>\n",
       "    </tr>\n",
       "  </tbody>\n",
       "</table>\n",
       "</div>"
      ],
      "text/plain": [
       "    country                                        description  points  \\\n",
       "0     Italy  Aromas include tropical fruit, broom, brimston...      87   \n",
       "1  Portugal  This ripe fruity, wine smooth still structured...      87   \n",
       "2        US  Tart snappy, flavor lime flesh rind dominate. ...      87   \n",
       "3        US  Pineapple rind, lemon pith orange blossom star...      87   \n",
       "4        US  Much like regular bottle 2012, come across rat...      87   \n",
       "\n",
       "            province         variety  \n",
       "0  Sicily & Sardinia     White Blend  \n",
       "1              Douro  Portuguese Red  \n",
       "2             Oregon      Pinot Gris  \n",
       "3           Michigan        Riesling  \n",
       "4             Oregon      Pinot Noir  "
      ]
     },
     "execution_count": 17,
     "metadata": {},
     "output_type": "execute_result"
    }
   ],
   "source": [
    "# Lemmatization\n",
    "nltk.download('wordnet')\n",
    "lemmatizer = WordNetLemmatizer()\n",
    "def lemmatize_words(text):\n",
    "    words = text.split()\n",
    "    words = [lemmatizer.lemmatize(word,pos='v') for word in words]\n",
    "    return ' '.join(words)\n",
    "df['description'] = df['description'].apply(lemmatize_words)\n",
    "df.head()"
   ]
  },
  {
   "cell_type": "code",
   "execution_count": 18,
   "id": "32878361",
   "metadata": {},
   "outputs": [
    {
     "data": {
      "text/plain": [
       "0         [aromas, include, tropical, fruit, broom, brim...\n",
       "1         [this, ripe, fruity, wine, smooth, still, stru...\n",
       "2         [tart, snappy, flavor, lime, flesh, rind, domi...\n",
       "3         [pineapple, rind, lemon, pith, orange, blossom...\n",
       "4         [much, like, regular, bottle, come, across, ra...\n",
       "                                ...                        \n",
       "129966    [notes, honeysuckle, cantaloupe, sweeten, deli...\n",
       "129967    [citation, give, much, decade, bottle, age, pr...\n",
       "129968    [well, drained, gravel, soil, give, wine, cris...\n",
       "129969    [dry, style, pinot, gris, crisp, acidity, it, ...\n",
       "129970    [big, rich, off, dry, power, intense, spicines...\n",
       "Name: description, Length: 129907, dtype: object"
      ]
     },
     "execution_count": 18,
     "metadata": {},
     "output_type": "execute_result"
    }
   ],
   "source": [
    "# Tokenize descriptions to split sentences into word components\n",
    "descriptions = df.description.apply(gensim.utils.simple_preprocess)\n",
    "descriptions"
   ]
  },
  {
   "cell_type": "code",
   "execution_count": 19,
   "id": "f6174d3e",
   "metadata": {},
   "outputs": [],
   "source": [
    "# Word2Vec model\n",
    "# Create the model\n",
    "model = gensim.models.Word2Vec(window=1, min_count=1, workers=8)\n",
    "# Build its vocabulary\n",
    "model.build_vocab(descriptions, progress_per=100)\n",
    "# Train the model\n",
    "model.train(descriptions, total_examples=model.corpus_count, epochs= model.epochs)\n",
    "# Save the model to use later\n",
    "model.save(\"Resources/descriptions.model\")"
   ]
  },
  {
   "cell_type": "code",
   "execution_count": 32,
   "id": "38a9548c",
   "metadata": {},
   "outputs": [
    {
     "data": {
      "text/plain": [
       "[('plump', 0.8143642544746399),\n",
       " ('pulpy', 0.760719358921051),\n",
       " ('plush', 0.7291730642318726),\n",
       " ('mouthfilling', 0.7283833026885986),\n",
       " ('chunky', 0.7249197959899902),\n",
       " ('luscious', 0.7169947624206543),\n",
       " ('lush', 0.7168979048728943),\n",
       " ('weighty', 0.7153026461601257),\n",
       " ('ripe', 0.7143080234527588),\n",
       " ('juicy', 0.7003235220909119)]"
      ]
     },
     "execution_count": 32,
     "metadata": {},
     "output_type": "execute_result"
    }
   ],
   "source": [
    "# Test the model looking for similar words\n",
    "model.wv.most_similar(\"fleshy\")"
   ]
  },
  {
   "cell_type": "code",
   "execution_count": 21,
   "id": "5d8ff021",
   "metadata": {},
   "outputs": [
    {
     "data": {
      "text/plain": [
       "0.38071415"
      ]
     },
     "execution_count": 21,
     "metadata": {},
     "output_type": "execute_result"
    }
   ],
   "source": [
    "# Test the model with similarity of different words\n",
    "model.wv.similarity(w1=\"sweet\",w2=\"fruity\")"
   ]
  },
  {
   "cell_type": "code",
   "execution_count": 57,
   "id": "b385aca1",
   "metadata": {},
   "outputs": [],
   "source": [
    "import numpy as np\n",
    "# Get vector representations of descriptions\n",
    "\n",
    "# define our function that creates description vectors:\n",
    "def get_desc_vec(document):\n",
    "    return np.array(sum(model.wv[word] for word in document)/len(document))\n",
    "\n",
    "desc_vecs = descriptions.apply(get_desc_vec).tolist()\n",
    "\n",
    "# for \n",
    "# sum(model.wv[d] for d in descriptions[0])/len(descriptions[0])\n",
    "# model.wv['aromas']\n",
    "# for desc in descriptions"
   ]
  },
  {
   "cell_type": "code",
   "execution_count": 60,
   "id": "c369412a",
   "metadata": {},
   "outputs": [],
   "source": [
    "desc_vec_df = pd.DataFrame(desc_vecs)"
   ]
  },
  {
   "cell_type": "code",
   "execution_count": 63,
   "id": "ee501768",
   "metadata": {},
   "outputs": [
    {
     "data": {
      "text/plain": [
       "array([[-0.38042325,  0.44547886, -0.0219199 , ..., -0.21928608,\n",
       "        -0.01562374, -0.13634494],\n",
       "       [-0.24923013,  0.71666735,  0.26131153, ..., -0.42186096,\n",
       "        -0.37194335, -0.28483555],\n",
       "       [-0.5302367 ,  0.40328625, -0.01353906, ..., -0.47789583,\n",
       "        -0.04605041, -0.25209254],\n",
       "       ...,\n",
       "       [-0.1534711 ,  0.37801662,  0.2226702 , ..., -0.30313656,\n",
       "        -0.1456415 , -0.11643026],\n",
       "       [-0.21349978,  0.41269293,  0.1691624 , ..., -0.3299476 ,\n",
       "        -0.30745447, -0.24195202],\n",
       "       [-0.33081272,  0.28393245,  0.1426199 , ..., -0.24387349,\n",
       "        -0.24720109, -0.13013107]], dtype=float32)"
      ]
     },
     "execution_count": 63,
     "metadata": {},
     "output_type": "execute_result"
    }
   ],
   "source": [
    "desc_vec_df.values"
   ]
  },
  {
   "cell_type": "code",
   "execution_count": 87,
   "id": "88fafcf2",
   "metadata": {},
   "outputs": [
    {
     "name": "stdout",
     "output_type": "stream",
     "text": [
      "Red wine with, juicy..... fruity dessert flavors laser-like dkljgbioerubgowrbgowergbwoergb\n",
      "Red wine with  juicy      fruity dessert flavors laser like dkljgbioerubgowrbgowergbwoergb\n"
     ]
    },
    {
     "data": {
      "text/plain": [
       "array([-4.1463056 ,  3.5198565 , -0.39890164, -2.3764222 ,  1.3593053 ,\n",
       "       -5.4809394 ,  2.610977  ,  6.725995  , -0.7629415 , -3.8254595 ,\n",
       "       -1.2591147 , -6.3113275 , -2.6524723 ,  1.40657   ,  3.1393418 ,\n",
       "        1.3172214 ,  3.0909328 ,  0.23630965, -1.6514609 , -6.045948  ,\n",
       "        2.900023  , -2.378191  ,  2.5172698 , -1.0759978 , -2.4066083 ,\n",
       "        0.05549923,  0.5137062 , -1.6655021 , -3.0221932 ,  6.2869415 ,\n",
       "        6.265183  , -2.1053426 , -1.3081836 , -3.5878778 , -0.7973597 ,\n",
       "        3.4088144 , -2.4633539 ,  2.6721    ,  0.49540153, -5.732395  ,\n",
       "        4.876373  , -5.068238  , -1.4859351 ,  1.7876196 ,  4.846452  ,\n",
       "       -2.6730149 , -2.1790814 ,  0.76659846,  2.2480245 ,  3.0366516 ,\n",
       "        0.40182132, -0.48237708,  1.0448866 , -2.2691832 , -2.7876863 ,\n",
       "        4.7928405 ,  2.8515894 ,  1.3177036 , -2.578859  ,  4.0406995 ,\n",
       "       -4.571622  ,  0.84690464,  2.0032504 , -1.0264851 , -4.81399   ,\n",
       "        2.564782  ,  5.9346056 ,  1.8282502 , -0.9531972 ,  2.9875813 ,\n",
       "        1.0641286 , -5.160667  ,  1.8553379 ,  0.57315236,  1.7957642 ,\n",
       "       -1.9809345 ,  3.9377813 ,  1.0489546 , -0.6405234 ,  2.4700108 ,\n",
       "       -3.9362614 , -0.15536112,  1.3519746 ,  1.5967577 , -2.8198671 ,\n",
       "       -2.0079114 ,  1.4659848 ,  1.7578276 ,  3.5690181 ,  0.63304335,\n",
       "        5.2237797 ,  2.5945036 ,  3.214871  , -1.2677305 ,  6.619858  ,\n",
       "        3.773638  ,  4.1468763 , -4.4497957 , -0.5521456 , -2.8362455 ],\n",
       "      dtype=float32)"
      ]
     },
     "execution_count": 87,
     "metadata": {},
     "output_type": "execute_result"
    }
   ],
   "source": [
    "import string\n",
    "\n",
    "a red wine that does not smell like horse\n",
    "a red horse that does not smell like wine\n",
    "\n",
    "a tart not sweet wine\n",
    "a sweet wine not tart\n",
    "\n",
    "\n",
    "\n",
    "'your custom word here' in model.wv\n",
    "user_input = 'Red wine with, juicy..... fruity dessert flavors laser-like dkljgbioerubgowrbgowergbwoergb'\n",
    "\n",
    "# Text box that takes user input js\n",
    "# [  'Red wine with juicy fruity dessert flavors' ]  => pass to flask in a post\n",
    "\n",
    "'Red wine with juicy fruity dessert flavors'\n",
    "user_input_nopunc = user_input.translate(str.maketrans(string.punctuation, ' '*len(string.punctuation)))\n",
    "print(user_input)\n",
    "print(user_input_nopunc)\n",
    "# in flask\n",
    "description = [word.lower().strip() for word in user_input_nopunc.split()]\n",
    "clean_description = [w for w in description if w in model.wv]\n",
    "sum(model.wv[word] for word in clean_description)\n",
    "# take words in the description, get the vectors (if they exist), combine them and find similar with cosine similarity\n",
    "\n",
    "\n",
    "\n",
    "# import your model\n",
    "# import your description vectors\n",
    "\n",
    "# Then  create routes and stuff\n",
    "\n",
    "\n"
   ]
  },
  {
   "cell_type": "code",
   "execution_count": 22,
   "id": "9ad1336c",
   "metadata": {},
   "outputs": [],
   "source": [
    "# Separate data in target and features variables\n",
    "# Preprocess data\n",
    "# Divide into train and test data"
   ]
  },
  {
   "cell_type": "code",
   "execution_count": 23,
   "id": "19cf31a2",
   "metadata": {},
   "outputs": [],
   "source": [
    "# Input vector data into ML algorithm\n",
    "# Apply K-Means Clustering\n",
    "# Generate scatter plot of results"
   ]
  },
  {
   "cell_type": "code",
   "execution_count": 24,
   "id": "fcff74d1",
   "metadata": {},
   "outputs": [],
   "source": [
    "# Input vector data into ML algorithm\n",
    "# Apply 2nd Model (TBD)\n",
    "# Generate scatter plot of results"
   ]
  },
  {
   "cell_type": "code",
   "execution_count": 25,
   "id": "2402e18d",
   "metadata": {},
   "outputs": [],
   "source": [
    "# Classify using Random Forest"
   ]
  },
  {
   "cell_type": "code",
   "execution_count": 26,
   "id": "08f5cfa7",
   "metadata": {},
   "outputs": [],
   "source": [
    "# Print accuracy score and confusion matrix"
   ]
  }
 ],
 "metadata": {
  "kernelspec": {
   "display_name": "Python 3 (ipykernel)",
   "language": "python",
   "name": "python3"
  },
  "language_info": {
   "codemirror_mode": {
    "name": "ipython",
    "version": 3
   },
   "file_extension": ".py",
   "mimetype": "text/x-python",
   "name": "python",
   "nbconvert_exporter": "python",
   "pygments_lexer": "ipython3",
   "version": "3.10.13"
  }
 },
 "nbformat": 4,
 "nbformat_minor": 5
}
