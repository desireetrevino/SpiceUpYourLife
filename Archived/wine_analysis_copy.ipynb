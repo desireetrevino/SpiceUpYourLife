{
 "cells": [
  {
   "cell_type": "code",
   "execution_count": 103,
   "id": "d739647b",
   "metadata": {},
   "outputs": [],
   "source": [
    "# Import dependencies\n",
    "import pandas as pd\n",
    "import numpy as np\n",
    "from pathlib import Path\n",
    "import gensim\n",
    "import nltk\n",
    "from nltk.corpus import stopwords\n",
    "from nltk.tokenize import word_tokenize\n",
    "from nltk.stem import WordNetLemmatizer\n",
    "from sklearn.manifold import TSNE"
   ]
  },
  {
   "cell_type": "code",
   "execution_count": 89,
   "id": "6fb57695",
   "metadata": {},
   "outputs": [
    {
     "data": {
      "text/html": [
       "<div>\n",
       "<style scoped>\n",
       "    .dataframe tbody tr th:only-of-type {\n",
       "        vertical-align: middle;\n",
       "    }\n",
       "\n",
       "    .dataframe tbody tr th {\n",
       "        vertical-align: top;\n",
       "    }\n",
       "\n",
       "    .dataframe thead th {\n",
       "        text-align: right;\n",
       "    }\n",
       "</style>\n",
       "<table border=\"1\" class=\"dataframe\">\n",
       "  <thead>\n",
       "    <tr style=\"text-align: right;\">\n",
       "      <th></th>\n",
       "      <th>id</th>\n",
       "      <th>country</th>\n",
       "      <th>description</th>\n",
       "      <th>designation</th>\n",
       "      <th>points</th>\n",
       "      <th>price</th>\n",
       "      <th>province</th>\n",
       "      <th>region_1</th>\n",
       "      <th>region_2</th>\n",
       "      <th>taster_name</th>\n",
       "      <th>taster_twitter_handle</th>\n",
       "      <th>title</th>\n",
       "      <th>variety</th>\n",
       "      <th>winery</th>\n",
       "    </tr>\n",
       "  </thead>\n",
       "  <tbody>\n",
       "    <tr>\n",
       "      <th>0</th>\n",
       "      <td>0</td>\n",
       "      <td>Italy</td>\n",
       "      <td>Aromas include tropical fruit, broom, brimston...</td>\n",
       "      <td>Vulkà Bianco</td>\n",
       "      <td>87</td>\n",
       "      <td>NaN</td>\n",
       "      <td>Sicily &amp; Sardinia</td>\n",
       "      <td>Etna</td>\n",
       "      <td>NaN</td>\n",
       "      <td>Kerin O’Keefe</td>\n",
       "      <td>@kerinokeefe</td>\n",
       "      <td>Nicosia 2013 Vulkà Bianco  (Etna)</td>\n",
       "      <td>White Blend</td>\n",
       "      <td>Nicosia</td>\n",
       "    </tr>\n",
       "    <tr>\n",
       "      <th>1</th>\n",
       "      <td>1</td>\n",
       "      <td>Portugal</td>\n",
       "      <td>This is ripe and fruity, a wine that is smooth...</td>\n",
       "      <td>Avidagos</td>\n",
       "      <td>87</td>\n",
       "      <td>15.0</td>\n",
       "      <td>Douro</td>\n",
       "      <td>NaN</td>\n",
       "      <td>NaN</td>\n",
       "      <td>Roger Voss</td>\n",
       "      <td>@vossroger</td>\n",
       "      <td>Quinta dos Avidagos 2011 Avidagos Red (Douro)</td>\n",
       "      <td>Portuguese Red</td>\n",
       "      <td>Quinta dos Avidagos</td>\n",
       "    </tr>\n",
       "    <tr>\n",
       "      <th>2</th>\n",
       "      <td>2</td>\n",
       "      <td>US</td>\n",
       "      <td>Tart and snappy, the flavors of lime flesh and...</td>\n",
       "      <td>NaN</td>\n",
       "      <td>87</td>\n",
       "      <td>14.0</td>\n",
       "      <td>Oregon</td>\n",
       "      <td>Willamette Valley</td>\n",
       "      <td>Willamette Valley</td>\n",
       "      <td>Paul Gregutt</td>\n",
       "      <td>@paulgwine</td>\n",
       "      <td>Rainstorm 2013 Pinot Gris (Willamette Valley)</td>\n",
       "      <td>Pinot Gris</td>\n",
       "      <td>Rainstorm</td>\n",
       "    </tr>\n",
       "    <tr>\n",
       "      <th>3</th>\n",
       "      <td>3</td>\n",
       "      <td>US</td>\n",
       "      <td>Pineapple rind, lemon pith and orange blossom ...</td>\n",
       "      <td>Reserve Late Harvest</td>\n",
       "      <td>87</td>\n",
       "      <td>13.0</td>\n",
       "      <td>Michigan</td>\n",
       "      <td>Lake Michigan Shore</td>\n",
       "      <td>NaN</td>\n",
       "      <td>Alexander Peartree</td>\n",
       "      <td>NaN</td>\n",
       "      <td>St. Julian 2013 Reserve Late Harvest Riesling ...</td>\n",
       "      <td>Riesling</td>\n",
       "      <td>St. Julian</td>\n",
       "    </tr>\n",
       "    <tr>\n",
       "      <th>4</th>\n",
       "      <td>4</td>\n",
       "      <td>US</td>\n",
       "      <td>Much like the regular bottling from 2012, this...</td>\n",
       "      <td>Vintner's Reserve Wild Child Block</td>\n",
       "      <td>87</td>\n",
       "      <td>65.0</td>\n",
       "      <td>Oregon</td>\n",
       "      <td>Willamette Valley</td>\n",
       "      <td>Willamette Valley</td>\n",
       "      <td>Paul Gregutt</td>\n",
       "      <td>@paulgwine</td>\n",
       "      <td>Sweet Cheeks 2012 Vintner's Reserve Wild Child...</td>\n",
       "      <td>Pinot Noir</td>\n",
       "      <td>Sweet Cheeks</td>\n",
       "    </tr>\n",
       "  </tbody>\n",
       "</table>\n",
       "</div>"
      ],
      "text/plain": [
       "   id   country                                        description  \\\n",
       "0   0     Italy  Aromas include tropical fruit, broom, brimston...   \n",
       "1   1  Portugal  This is ripe and fruity, a wine that is smooth...   \n",
       "2   2        US  Tart and snappy, the flavors of lime flesh and...   \n",
       "3   3        US  Pineapple rind, lemon pith and orange blossom ...   \n",
       "4   4        US  Much like the regular bottling from 2012, this...   \n",
       "\n",
       "                          designation  points  price           province  \\\n",
       "0                        Vulkà Bianco      87    NaN  Sicily & Sardinia   \n",
       "1                            Avidagos      87   15.0              Douro   \n",
       "2                                 NaN      87   14.0             Oregon   \n",
       "3                Reserve Late Harvest      87   13.0           Michigan   \n",
       "4  Vintner's Reserve Wild Child Block      87   65.0             Oregon   \n",
       "\n",
       "              region_1           region_2         taster_name  \\\n",
       "0                 Etna                NaN       Kerin O’Keefe   \n",
       "1                  NaN                NaN          Roger Voss   \n",
       "2    Willamette Valley  Willamette Valley        Paul Gregutt   \n",
       "3  Lake Michigan Shore                NaN  Alexander Peartree   \n",
       "4    Willamette Valley  Willamette Valley        Paul Gregutt   \n",
       "\n",
       "  taster_twitter_handle                                              title  \\\n",
       "0          @kerinokeefe                  Nicosia 2013 Vulkà Bianco  (Etna)   \n",
       "1            @vossroger      Quinta dos Avidagos 2011 Avidagos Red (Douro)   \n",
       "2           @paulgwine       Rainstorm 2013 Pinot Gris (Willamette Valley)   \n",
       "3                   NaN  St. Julian 2013 Reserve Late Harvest Riesling ...   \n",
       "4           @paulgwine   Sweet Cheeks 2012 Vintner's Reserve Wild Child...   \n",
       "\n",
       "          variety               winery  \n",
       "0     White Blend              Nicosia  \n",
       "1  Portuguese Red  Quinta dos Avidagos  \n",
       "2      Pinot Gris            Rainstorm  \n",
       "3        Riesling           St. Julian  \n",
       "4      Pinot Noir         Sweet Cheeks  "
      ]
     },
     "execution_count": 89,
     "metadata": {},
     "output_type": "execute_result"
    }
   ],
   "source": [
    "# Read in data from csv file\n",
    "wine_data = Path(\"Resources/winemag-data-130k-v2.csv\")\n",
    "# Convert to dataframe\n",
    "wine_df = pd.read_csv(wine_data)\n",
    "wine_df.head(5)"
   ]
  },
  {
   "cell_type": "code",
   "execution_count": 90,
   "id": "fe91f3c2",
   "metadata": {},
   "outputs": [
    {
     "data": {
      "text/html": [
       "<div>\n",
       "<style scoped>\n",
       "    .dataframe tbody tr th:only-of-type {\n",
       "        vertical-align: middle;\n",
       "    }\n",
       "\n",
       "    .dataframe tbody tr th {\n",
       "        vertical-align: top;\n",
       "    }\n",
       "\n",
       "    .dataframe thead th {\n",
       "        text-align: right;\n",
       "    }\n",
       "</style>\n",
       "<table border=\"1\" class=\"dataframe\">\n",
       "  <thead>\n",
       "    <tr style=\"text-align: right;\">\n",
       "      <th></th>\n",
       "      <th>country</th>\n",
       "      <th>description</th>\n",
       "      <th>points</th>\n",
       "      <th>province</th>\n",
       "      <th>variety</th>\n",
       "    </tr>\n",
       "  </thead>\n",
       "  <tbody>\n",
       "    <tr>\n",
       "      <th>0</th>\n",
       "      <td>Italy</td>\n",
       "      <td>Aromas include tropical fruit, broom, brimston...</td>\n",
       "      <td>87</td>\n",
       "      <td>Sicily &amp; Sardinia</td>\n",
       "      <td>White Blend</td>\n",
       "    </tr>\n",
       "    <tr>\n",
       "      <th>1</th>\n",
       "      <td>Portugal</td>\n",
       "      <td>This is ripe and fruity, a wine that is smooth...</td>\n",
       "      <td>87</td>\n",
       "      <td>Douro</td>\n",
       "      <td>Portuguese Red</td>\n",
       "    </tr>\n",
       "    <tr>\n",
       "      <th>2</th>\n",
       "      <td>US</td>\n",
       "      <td>Tart and snappy, the flavors of lime flesh and...</td>\n",
       "      <td>87</td>\n",
       "      <td>Oregon</td>\n",
       "      <td>Pinot Gris</td>\n",
       "    </tr>\n",
       "    <tr>\n",
       "      <th>3</th>\n",
       "      <td>US</td>\n",
       "      <td>Pineapple rind, lemon pith and orange blossom ...</td>\n",
       "      <td>87</td>\n",
       "      <td>Michigan</td>\n",
       "      <td>Riesling</td>\n",
       "    </tr>\n",
       "    <tr>\n",
       "      <th>4</th>\n",
       "      <td>US</td>\n",
       "      <td>Much like the regular bottling from 2012, this...</td>\n",
       "      <td>87</td>\n",
       "      <td>Oregon</td>\n",
       "      <td>Pinot Noir</td>\n",
       "    </tr>\n",
       "  </tbody>\n",
       "</table>\n",
       "</div>"
      ],
      "text/plain": [
       "    country                                        description  points  \\\n",
       "0     Italy  Aromas include tropical fruit, broom, brimston...      87   \n",
       "1  Portugal  This is ripe and fruity, a wine that is smooth...      87   \n",
       "2        US  Tart and snappy, the flavors of lime flesh and...      87   \n",
       "3        US  Pineapple rind, lemon pith and orange blossom ...      87   \n",
       "4        US  Much like the regular bottling from 2012, this...      87   \n",
       "\n",
       "            province         variety  \n",
       "0  Sicily & Sardinia     White Blend  \n",
       "1              Douro  Portuguese Red  \n",
       "2             Oregon      Pinot Gris  \n",
       "3           Michigan        Riesling  \n",
       "4             Oregon      Pinot Noir  "
      ]
     },
     "execution_count": 90,
     "metadata": {},
     "output_type": "execute_result"
    }
   ],
   "source": [
    "# Clean and transform data\n",
    "# Drop unnecessary columns\n",
    "df = wine_df.loc[:,[\"country\", \"description\", \"points\",\n",
    "                                    \"province\", \"variety\"]]\n",
    "# Drop null values\n",
    "df = df.dropna(how='any')\n",
    "df.head(5)"
   ]
  },
  {
   "cell_type": "code",
   "execution_count": 91,
   "id": "1011edd9",
   "metadata": {},
   "outputs": [
    {
     "name": "stderr",
     "output_type": "stream",
     "text": [
      "[nltk_data] Downloading package stopwords to\n",
      "[nltk_data]     C:\\Users\\katyp\\AppData\\Roaming\\nltk_data...\n",
      "[nltk_data]   Package stopwords is already up-to-date!\n"
     ]
    },
    {
     "data": {
      "text/html": [
       "<div>\n",
       "<style scoped>\n",
       "    .dataframe tbody tr th:only-of-type {\n",
       "        vertical-align: middle;\n",
       "    }\n",
       "\n",
       "    .dataframe tbody tr th {\n",
       "        vertical-align: top;\n",
       "    }\n",
       "\n",
       "    .dataframe thead th {\n",
       "        text-align: right;\n",
       "    }\n",
       "</style>\n",
       "<table border=\"1\" class=\"dataframe\">\n",
       "  <thead>\n",
       "    <tr style=\"text-align: right;\">\n",
       "      <th></th>\n",
       "      <th>country</th>\n",
       "      <th>description</th>\n",
       "      <th>points</th>\n",
       "      <th>province</th>\n",
       "      <th>variety</th>\n",
       "    </tr>\n",
       "  </thead>\n",
       "  <tbody>\n",
       "    <tr>\n",
       "      <th>0</th>\n",
       "      <td>Italy</td>\n",
       "      <td>Aromas include tropical fruit, broom, brimston...</td>\n",
       "      <td>87</td>\n",
       "      <td>Sicily &amp; Sardinia</td>\n",
       "      <td>White Blend</td>\n",
       "    </tr>\n",
       "    <tr>\n",
       "      <th>1</th>\n",
       "      <td>Portugal</td>\n",
       "      <td>This ripe fruity, wine smooth still structured...</td>\n",
       "      <td>87</td>\n",
       "      <td>Douro</td>\n",
       "      <td>Portuguese Red</td>\n",
       "    </tr>\n",
       "    <tr>\n",
       "      <th>2</th>\n",
       "      <td>US</td>\n",
       "      <td>Tart snappy, flavors lime flesh rind dominate....</td>\n",
       "      <td>87</td>\n",
       "      <td>Oregon</td>\n",
       "      <td>Pinot Gris</td>\n",
       "    </tr>\n",
       "    <tr>\n",
       "      <th>3</th>\n",
       "      <td>US</td>\n",
       "      <td>Pineapple rind, lemon pith orange blossom star...</td>\n",
       "      <td>87</td>\n",
       "      <td>Michigan</td>\n",
       "      <td>Riesling</td>\n",
       "    </tr>\n",
       "    <tr>\n",
       "      <th>4</th>\n",
       "      <td>US</td>\n",
       "      <td>Much like regular bottling 2012, comes across ...</td>\n",
       "      <td>87</td>\n",
       "      <td>Oregon</td>\n",
       "      <td>Pinot Noir</td>\n",
       "    </tr>\n",
       "  </tbody>\n",
       "</table>\n",
       "</div>"
      ],
      "text/plain": [
       "    country                                        description  points  \\\n",
       "0     Italy  Aromas include tropical fruit, broom, brimston...      87   \n",
       "1  Portugal  This ripe fruity, wine smooth still structured...      87   \n",
       "2        US  Tart snappy, flavors lime flesh rind dominate....      87   \n",
       "3        US  Pineapple rind, lemon pith orange blossom star...      87   \n",
       "4        US  Much like regular bottling 2012, comes across ...      87   \n",
       "\n",
       "            province         variety  \n",
       "0  Sicily & Sardinia     White Blend  \n",
       "1              Douro  Portuguese Red  \n",
       "2             Oregon      Pinot Gris  \n",
       "3           Michigan        Riesling  \n",
       "4             Oregon      Pinot Noir  "
      ]
     },
     "execution_count": 91,
     "metadata": {},
     "output_type": "execute_result"
    }
   ],
   "source": [
    "# Transform words into vectors using NLP\n",
    "# Drop stop words\n",
    "nltk.download('stopwords')\n",
    "stop_words = set(stopwords.words('english')) \n",
    "df['description'] = df['description'].apply(lambda x: ' '.join([word for word in x.split() if word not in (stop_words)]))\n",
    "df.head()"
   ]
  },
  {
   "cell_type": "code",
   "execution_count": 93,
   "id": "bdb9f395",
   "metadata": {},
   "outputs": [
    {
     "name": "stderr",
     "output_type": "stream",
     "text": [
      "[nltk_data] Downloading package wordnet to\n",
      "[nltk_data]     C:\\Users\\katyp\\AppData\\Roaming\\nltk_data...\n",
      "[nltk_data]   Package wordnet is already up-to-date!\n"
     ]
    },
    {
     "data": {
      "text/html": [
       "<div>\n",
       "<style scoped>\n",
       "    .dataframe tbody tr th:only-of-type {\n",
       "        vertical-align: middle;\n",
       "    }\n",
       "\n",
       "    .dataframe tbody tr th {\n",
       "        vertical-align: top;\n",
       "    }\n",
       "\n",
       "    .dataframe thead th {\n",
       "        text-align: right;\n",
       "    }\n",
       "</style>\n",
       "<table border=\"1\" class=\"dataframe\">\n",
       "  <thead>\n",
       "    <tr style=\"text-align: right;\">\n",
       "      <th></th>\n",
       "      <th>country</th>\n",
       "      <th>description</th>\n",
       "      <th>points</th>\n",
       "      <th>province</th>\n",
       "      <th>variety</th>\n",
       "    </tr>\n",
       "  </thead>\n",
       "  <tbody>\n",
       "    <tr>\n",
       "      <th>0</th>\n",
       "      <td>Italy</td>\n",
       "      <td>Aromas include tropical fruit, broom, brimston...</td>\n",
       "      <td>87</td>\n",
       "      <td>Sicily &amp; Sardinia</td>\n",
       "      <td>White Blend</td>\n",
       "    </tr>\n",
       "    <tr>\n",
       "      <th>1</th>\n",
       "      <td>Portugal</td>\n",
       "      <td>This ripe fruity, wine smooth still structured...</td>\n",
       "      <td>87</td>\n",
       "      <td>Douro</td>\n",
       "      <td>Portuguese Red</td>\n",
       "    </tr>\n",
       "    <tr>\n",
       "      <th>2</th>\n",
       "      <td>US</td>\n",
       "      <td>Tart snappy, flavor lime flesh rind dominate. ...</td>\n",
       "      <td>87</td>\n",
       "      <td>Oregon</td>\n",
       "      <td>Pinot Gris</td>\n",
       "    </tr>\n",
       "    <tr>\n",
       "      <th>3</th>\n",
       "      <td>US</td>\n",
       "      <td>Pineapple rind, lemon pith orange blossom star...</td>\n",
       "      <td>87</td>\n",
       "      <td>Michigan</td>\n",
       "      <td>Riesling</td>\n",
       "    </tr>\n",
       "    <tr>\n",
       "      <th>4</th>\n",
       "      <td>US</td>\n",
       "      <td>Much like regular bottle 2012, come across rat...</td>\n",
       "      <td>87</td>\n",
       "      <td>Oregon</td>\n",
       "      <td>Pinot Noir</td>\n",
       "    </tr>\n",
       "  </tbody>\n",
       "</table>\n",
       "</div>"
      ],
      "text/plain": [
       "    country                                        description  points  \\\n",
       "0     Italy  Aromas include tropical fruit, broom, brimston...      87   \n",
       "1  Portugal  This ripe fruity, wine smooth still structured...      87   \n",
       "2        US  Tart snappy, flavor lime flesh rind dominate. ...      87   \n",
       "3        US  Pineapple rind, lemon pith orange blossom star...      87   \n",
       "4        US  Much like regular bottle 2012, come across rat...      87   \n",
       "\n",
       "            province         variety  \n",
       "0  Sicily & Sardinia     White Blend  \n",
       "1              Douro  Portuguese Red  \n",
       "2             Oregon      Pinot Gris  \n",
       "3           Michigan        Riesling  \n",
       "4             Oregon      Pinot Noir  "
      ]
     },
     "execution_count": 93,
     "metadata": {},
     "output_type": "execute_result"
    }
   ],
   "source": [
    "# Lemmatization\n",
    "nltk.download('wordnet')\n",
    "lemmatizer = WordNetLemmatizer()\n",
    "def lemmatize_words(text):\n",
    "    words = text.split()\n",
    "    words = [lemmatizer.lemmatize(word,pos='v') for word in words]\n",
    "    return ' '.join(words)\n",
    "df['description'] = df['description'].apply(lemmatize_words)\n",
    "df.head()"
   ]
  },
  {
   "cell_type": "code",
   "execution_count": 94,
   "id": "32878361",
   "metadata": {},
   "outputs": [
    {
     "data": {
      "text/plain": [
       "0         [aromas, include, tropical, fruit, broom, brim...\n",
       "1         [this, ripe, fruity, wine, smooth, still, stru...\n",
       "2         [tart, snappy, flavor, lime, flesh, rind, domi...\n",
       "3         [pineapple, rind, lemon, pith, orange, blossom...\n",
       "4         [much, like, regular, bottle, come, across, ra...\n",
       "                                ...                        \n",
       "129966    [notes, honeysuckle, cantaloupe, sweeten, deli...\n",
       "129967    [citation, give, much, decade, bottle, age, pr...\n",
       "129968    [well, drained, gravel, soil, give, wine, cris...\n",
       "129969    [dry, style, pinot, gris, crisp, acidity, it, ...\n",
       "129970    [big, rich, off, dry, power, intense, spicines...\n",
       "Name: description, Length: 129907, dtype: object"
      ]
     },
     "execution_count": 94,
     "metadata": {},
     "output_type": "execute_result"
    }
   ],
   "source": [
    "# Tokenize descriptions to split sentences into word components\n",
    "descriptions = df.description.apply(gensim.utils.simple_preprocess)\n",
    "descriptions"
   ]
  },
  {
   "cell_type": "code",
   "execution_count": 95,
   "id": "f6174d3e",
   "metadata": {},
   "outputs": [],
   "source": [
    "# Word2Vec model\n",
    "# Create the model\n",
    "model = gensim.models.Word2Vec(window=1, min_count=1, workers=8)\n",
    "# Build its vocabulary\n",
    "model.build_vocab(descriptions, progress_per=100)\n",
    "# Train the model\n",
    "model.train(descriptions, total_examples=model.corpus_count, epochs= model.epochs)\n",
    "# Save the model to use later\n",
    "model.save(\"Resources/descriptions.model\")"
   ]
  },
  {
   "cell_type": "code",
   "execution_count": 97,
   "id": "38a9548c",
   "metadata": {},
   "outputs": [
    {
     "data": {
      "text/plain": [
       "[('vibrant', 0.8031609654426575),\n",
       " ('lively', 0.7552875280380249),\n",
       " ('fragrant', 0.7213945984840393),\n",
       " ('buoyant', 0.7045851945877075),\n",
       " ('vivid', 0.700950562953949),\n",
       " ('zesty', 0.6973592638969421),\n",
       " ('pristine', 0.6869233846664429),\n",
       " ('zippy', 0.6846666932106018),\n",
       " ('vivacious', 0.6789547801017761),\n",
       " ('crisp', 0.6666170954704285)]"
      ]
     },
     "execution_count": 97,
     "metadata": {},
     "output_type": "execute_result"
    }
   ],
   "source": [
    "# Test the model looking for similar words\n",
    "model.wv.most_similar(\"bright\")"
   ]
  },
  {
   "cell_type": "code",
   "execution_count": 98,
   "id": "5d8ff021",
   "metadata": {},
   "outputs": [
    {
     "data": {
      "text/plain": [
       "0.39353532"
      ]
     },
     "execution_count": 98,
     "metadata": {},
     "output_type": "execute_result"
    }
   ],
   "source": [
    "# Test the model with similarity of different words\n",
    "model.wv.similarity(w1=\"sweet\",w2=\"fruity\")"
   ]
  },
  {
   "cell_type": "code",
   "execution_count": 100,
   "id": "b385aca1",
   "metadata": {},
   "outputs": [],
   "source": [
    "# Get vector representations of descriptions\n",
    "# Define our function that creates description vectors:\n",
    "def get_desc_vec(document):\n",
    "    return np.array(sum(model.wv[word] for word in document)/len(document))\n",
    "\n",
    "desc_vecs = descriptions.apply(get_desc_vec).tolist()\n",
    "\n",
    "# for \n",
    "# sum(model.wv[d] for d in descriptions[0])/len(descriptions[0])\n",
    "# model.wv['aromas']\n",
    "# for desc in descriptions"
   ]
  },
  {
   "cell_type": "code",
   "execution_count": 101,
   "id": "c369412a",
   "metadata": {},
   "outputs": [],
   "source": [
    "desc_vec_df = pd.DataFrame(desc_vecs)"
   ]
  },
  {
   "cell_type": "code",
   "execution_count": 102,
   "id": "ee501768",
   "metadata": {},
   "outputs": [
    {
     "data": {
      "text/plain": [
       "array([[-0.38943514,  0.46795204, -0.01659683, ..., -0.44666412,\n",
       "         0.01279598, -0.316577  ],\n",
       "       [-0.2078109 ,  0.40830687,  0.09883289, ..., -0.60397404,\n",
       "        -0.2888849 , -0.2510083 ],\n",
       "       [-0.6055327 ,  0.2598576 , -0.15290378, ..., -0.7390816 ,\n",
       "        -0.03161457, -0.14972173],\n",
       "       ...,\n",
       "       [-0.07642491,  0.16925098,  0.13420069, ..., -0.36354685,\n",
       "        -0.24250098, -0.10991914],\n",
       "       [-0.11606023,  0.19864772,  0.12376181, ..., -0.62272316,\n",
       "        -0.3185051 , -0.16753477],\n",
       "       [-0.25898352,  0.16406868,  0.18591437, ..., -0.32889518,\n",
       "        -0.35066143, -0.1944136 ]], dtype=float32)"
      ]
     },
     "execution_count": 102,
     "metadata": {},
     "output_type": "execute_result"
    }
   ],
   "source": [
    "desc_vec_df.values"
   ]
  },
  {
   "cell_type": "code",
   "execution_count": 106,
   "id": "ce89993c",
   "metadata": {},
   "outputs": [],
   "source": [
    "# Use TSNE as our clustering algorithm\n",
    "# Build the TSNE model\n",
    "tsne_model=TSNE(metric='cosine', perplexity=50, n_components=2, learning_rate='auto',\n",
    "                  init='random')"
   ]
  },
  {
   "cell_type": "code",
   "execution_count": 107,
   "id": "d1fb3da5",
   "metadata": {},
   "outputs": [
    {
     "data": {
      "text/html": [
       "<style>#sk-container-id-1 {color: black;background-color: white;}#sk-container-id-1 pre{padding: 0;}#sk-container-id-1 div.sk-toggleable {background-color: white;}#sk-container-id-1 label.sk-toggleable__label {cursor: pointer;display: block;width: 100%;margin-bottom: 0;padding: 0.3em;box-sizing: border-box;text-align: center;}#sk-container-id-1 label.sk-toggleable__label-arrow:before {content: \"▸\";float: left;margin-right: 0.25em;color: #696969;}#sk-container-id-1 label.sk-toggleable__label-arrow:hover:before {color: black;}#sk-container-id-1 div.sk-estimator:hover label.sk-toggleable__label-arrow:before {color: black;}#sk-container-id-1 div.sk-toggleable__content {max-height: 0;max-width: 0;overflow: hidden;text-align: left;background-color: #f0f8ff;}#sk-container-id-1 div.sk-toggleable__content pre {margin: 0.2em;color: black;border-radius: 0.25em;background-color: #f0f8ff;}#sk-container-id-1 input.sk-toggleable__control:checked~div.sk-toggleable__content {max-height: 200px;max-width: 100%;overflow: auto;}#sk-container-id-1 input.sk-toggleable__control:checked~label.sk-toggleable__label-arrow:before {content: \"▾\";}#sk-container-id-1 div.sk-estimator input.sk-toggleable__control:checked~label.sk-toggleable__label {background-color: #d4ebff;}#sk-container-id-1 div.sk-label input.sk-toggleable__control:checked~label.sk-toggleable__label {background-color: #d4ebff;}#sk-container-id-1 input.sk-hidden--visually {border: 0;clip: rect(1px 1px 1px 1px);clip: rect(1px, 1px, 1px, 1px);height: 1px;margin: -1px;overflow: hidden;padding: 0;position: absolute;width: 1px;}#sk-container-id-1 div.sk-estimator {font-family: monospace;background-color: #f0f8ff;border: 1px dotted black;border-radius: 0.25em;box-sizing: border-box;margin-bottom: 0.5em;}#sk-container-id-1 div.sk-estimator:hover {background-color: #d4ebff;}#sk-container-id-1 div.sk-parallel-item::after {content: \"\";width: 100%;border-bottom: 1px solid gray;flex-grow: 1;}#sk-container-id-1 div.sk-label:hover label.sk-toggleable__label {background-color: #d4ebff;}#sk-container-id-1 div.sk-serial::before {content: \"\";position: absolute;border-left: 1px solid gray;box-sizing: border-box;top: 0;bottom: 0;left: 50%;z-index: 0;}#sk-container-id-1 div.sk-serial {display: flex;flex-direction: column;align-items: center;background-color: white;padding-right: 0.2em;padding-left: 0.2em;position: relative;}#sk-container-id-1 div.sk-item {position: relative;z-index: 1;}#sk-container-id-1 div.sk-parallel {display: flex;align-items: stretch;justify-content: center;background-color: white;position: relative;}#sk-container-id-1 div.sk-item::before, #sk-container-id-1 div.sk-parallel-item::before {content: \"\";position: absolute;border-left: 1px solid gray;box-sizing: border-box;top: 0;bottom: 0;left: 50%;z-index: -1;}#sk-container-id-1 div.sk-parallel-item {display: flex;flex-direction: column;z-index: 1;position: relative;background-color: white;}#sk-container-id-1 div.sk-parallel-item:first-child::after {align-self: flex-end;width: 50%;}#sk-container-id-1 div.sk-parallel-item:last-child::after {align-self: flex-start;width: 50%;}#sk-container-id-1 div.sk-parallel-item:only-child::after {width: 0;}#sk-container-id-1 div.sk-dashed-wrapped {border: 1px dashed gray;margin: 0 0.4em 0.5em 0.4em;box-sizing: border-box;padding-bottom: 0.4em;background-color: white;}#sk-container-id-1 div.sk-label label {font-family: monospace;font-weight: bold;display: inline-block;line-height: 1.2em;}#sk-container-id-1 div.sk-label-container {text-align: center;}#sk-container-id-1 div.sk-container {/* jupyter's `normalize.less` sets `[hidden] { display: none; }` but bootstrap.min.css set `[hidden] { display: none !important; }` so we also need the `!important` here to be able to override the default hidden behavior on the sphinx rendered scikit-learn.org. See: https://github.com/scikit-learn/scikit-learn/issues/21755 */display: inline-block !important;position: relative;}#sk-container-id-1 div.sk-text-repr-fallback {display: none;}</style><div id=\"sk-container-id-1\" class=\"sk-top-container\"><div class=\"sk-text-repr-fallback\"><pre>TSNE(init=&#x27;random&#x27;, metric=&#x27;cosine&#x27;, perplexity=50)</pre><b>In a Jupyter environment, please rerun this cell to show the HTML representation or trust the notebook. <br />On GitHub, the HTML representation is unable to render, please try loading this page with nbviewer.org.</b></div><div class=\"sk-container\" hidden><div class=\"sk-item\"><div class=\"sk-estimator sk-toggleable\"><input class=\"sk-toggleable__control sk-hidden--visually\" id=\"sk-estimator-id-1\" type=\"checkbox\" checked><label for=\"sk-estimator-id-1\" class=\"sk-toggleable__label sk-toggleable__label-arrow\">TSNE</label><div class=\"sk-toggleable__content\"><pre>TSNE(init=&#x27;random&#x27;, metric=&#x27;cosine&#x27;, perplexity=50)</pre></div></div></div></div></div>"
      ],
      "text/plain": [
       "TSNE(init='random', metric='cosine', perplexity=50)"
      ]
     },
     "execution_count": 107,
     "metadata": {},
     "output_type": "execute_result"
    }
   ],
   "source": [
    "# Fit the TSNE model\n",
    "tsne_model.fit(desc_vec_df)"
   ]
  },
  {
   "cell_type": "code",
   "execution_count": 108,
   "id": "865348a2",
   "metadata": {},
   "outputs": [
    {
     "ename": "AttributeError",
     "evalue": "'TSNE' object has no attribute 'predict'",
     "output_type": "error",
     "traceback": [
      "\u001b[1;31m---------------------------------------------------------------------------\u001b[0m",
      "\u001b[1;31mAttributeError\u001b[0m                            Traceback (most recent call last)",
      "Cell \u001b[1;32mIn[108], line 2\u001b[0m\n\u001b[0;32m      1\u001b[0m \u001b[38;5;66;03m# Make predictions about the wine recommendations based on the trained model\u001b[39;00m\n\u001b[1;32m----> 2\u001b[0m wine_recs \u001b[38;5;241m=\u001b[39m \u001b[43mtsne_model\u001b[49m\u001b[38;5;241;43m.\u001b[39;49m\u001b[43mpredict\u001b[49m(desc_vec_df)\n",
      "\u001b[1;31mAttributeError\u001b[0m: 'TSNE' object has no attribute 'predict'"
     ]
    }
   ],
   "source": [
    "# Make predictions about the wine recommendations based on the trained model\n",
    "wine_recs = tsne_model.predict(desc_vec_df)"
   ]
  },
  {
   "cell_type": "code",
   "execution_count": null,
   "id": "0e013fb8",
   "metadata": {},
   "outputs": [],
   "source": [
    "# X = np.array([[0, 0, 0], [0, 1, 1], [1, 0, 1], [1, 1, 1]])\n",
    "# X_embedded = TSNE(n_components=2, learning_rate='auto',\n",
    "                  init='random', perplexity=3).fit_transform(X)\n",
    "# X_embedded.shape\n",
    "\n",
    "\n",
    "# For your data it would look something like\n",
    "# df = yourDataFrame\n",
    "# TSNE(metric='cosine', perplexity=50, n_components=2, learning_rate='auto',\n",
    "                  init='random', perplexity=3).fit_transform(df) (edited) "
   ]
  },
  {
   "cell_type": "code",
   "execution_count": 87,
   "id": "88fafcf2",
   "metadata": {},
   "outputs": [
    {
     "name": "stdout",
     "output_type": "stream",
     "text": [
      "Red wine with, juicy..... fruity dessert flavors laser-like dkljgbioerubgowrbgowergbwoergb\n",
      "Red wine with  juicy      fruity dessert flavors laser like dkljgbioerubgowrbgowergbwoergb\n"
     ]
    },
    {
     "data": {
      "text/plain": [
       "array([-4.1463056 ,  3.5198565 , -0.39890164, -2.3764222 ,  1.3593053 ,\n",
       "       -5.4809394 ,  2.610977  ,  6.725995  , -0.7629415 , -3.8254595 ,\n",
       "       -1.2591147 , -6.3113275 , -2.6524723 ,  1.40657   ,  3.1393418 ,\n",
       "        1.3172214 ,  3.0909328 ,  0.23630965, -1.6514609 , -6.045948  ,\n",
       "        2.900023  , -2.378191  ,  2.5172698 , -1.0759978 , -2.4066083 ,\n",
       "        0.05549923,  0.5137062 , -1.6655021 , -3.0221932 ,  6.2869415 ,\n",
       "        6.265183  , -2.1053426 , -1.3081836 , -3.5878778 , -0.7973597 ,\n",
       "        3.4088144 , -2.4633539 ,  2.6721    ,  0.49540153, -5.732395  ,\n",
       "        4.876373  , -5.068238  , -1.4859351 ,  1.7876196 ,  4.846452  ,\n",
       "       -2.6730149 , -2.1790814 ,  0.76659846,  2.2480245 ,  3.0366516 ,\n",
       "        0.40182132, -0.48237708,  1.0448866 , -2.2691832 , -2.7876863 ,\n",
       "        4.7928405 ,  2.8515894 ,  1.3177036 , -2.578859  ,  4.0406995 ,\n",
       "       -4.571622  ,  0.84690464,  2.0032504 , -1.0264851 , -4.81399   ,\n",
       "        2.564782  ,  5.9346056 ,  1.8282502 , -0.9531972 ,  2.9875813 ,\n",
       "        1.0641286 , -5.160667  ,  1.8553379 ,  0.57315236,  1.7957642 ,\n",
       "       -1.9809345 ,  3.9377813 ,  1.0489546 , -0.6405234 ,  2.4700108 ,\n",
       "       -3.9362614 , -0.15536112,  1.3519746 ,  1.5967577 , -2.8198671 ,\n",
       "       -2.0079114 ,  1.4659848 ,  1.7578276 ,  3.5690181 ,  0.63304335,\n",
       "        5.2237797 ,  2.5945036 ,  3.214871  , -1.2677305 ,  6.619858  ,\n",
       "        3.773638  ,  4.1468763 , -4.4497957 , -0.5521456 , -2.8362455 ],\n",
       "      dtype=float32)"
      ]
     },
     "execution_count": 87,
     "metadata": {},
     "output_type": "execute_result"
    }
   ],
   "source": [
    "import string\n",
    "\n",
    "a red wine that does not smell like horse\n",
    "a red horse that does not smell like wine\n",
    "\n",
    "a tart not sweet wine\n",
    "a sweet wine not tart\n",
    "\n",
    "\n",
    "\n",
    "'your custom word here' in model.wv\n",
    "user_input = 'Red wine with, juicy..... fruity dessert flavors laser-like dkljgbioerubgowrbgowergbwoergb'\n",
    "\n",
    "# Text box that takes user input js\n",
    "# [  'Red wine with juicy fruity dessert flavors' ]  => pass to flask in a post\n",
    "\n",
    "'Red wine with juicy fruity dessert flavors'\n",
    "user_input_nopunc = user_input.translate(str.maketrans(string.punctuation, ' '*len(string.punctuation)))\n",
    "print(user_input)\n",
    "print(user_input_nopunc)\n",
    "# in flask\n",
    "description = [word.lower().strip() for word in user_input_nopunc.split()]\n",
    "clean_description = [w for w in description if w in model.wv]\n",
    "sum(model.wv[word] for word in clean_description)\n",
    "# take words in the description, get the vectors (if they exist), combine them and find similar with cosine similarity\n",
    "\n",
    "\n",
    "\n",
    "# import your model\n",
    "# import your description vectors\n",
    "\n",
    "# Then  create routes and stuff\n",
    "\n",
    "\n"
   ]
  },
  {
   "cell_type": "code",
   "execution_count": 22,
   "id": "9ad1336c",
   "metadata": {},
   "outputs": [],
   "source": [
    "# Separate data in target and features variables\n",
    "# Preprocess data\n",
    "# Divide into train and test data"
   ]
  },
  {
   "cell_type": "code",
   "execution_count": 23,
   "id": "19cf31a2",
   "metadata": {},
   "outputs": [],
   "source": [
    "# Input vector data into ML algorithm\n",
    "# Apply K-Means Clustering\n",
    "# Generate scatter plot of results"
   ]
  },
  {
   "cell_type": "code",
   "execution_count": 24,
   "id": "fcff74d1",
   "metadata": {},
   "outputs": [],
   "source": [
    "# Input vector data into ML algorithm\n",
    "# Apply 2nd Model (TBD)\n",
    "# Generate scatter plot of results"
   ]
  },
  {
   "cell_type": "code",
   "execution_count": 25,
   "id": "2402e18d",
   "metadata": {},
   "outputs": [],
   "source": [
    "# Classify using Random Forest"
   ]
  },
  {
   "cell_type": "code",
   "execution_count": 26,
   "id": "08f5cfa7",
   "metadata": {},
   "outputs": [],
   "source": [
    "# Print accuracy score and confusion matrix"
   ]
  }
 ],
 "metadata": {
  "kernelspec": {
   "display_name": "Python 3 (ipykernel)",
   "language": "python",
   "name": "python3"
  },
  "language_info": {
   "codemirror_mode": {
    "name": "ipython",
    "version": 3
   },
   "file_extension": ".py",
   "mimetype": "text/x-python",
   "name": "python",
   "nbconvert_exporter": "python",
   "pygments_lexer": "ipython3",
   "version": "3.10.13"
  }
 },
 "nbformat": 4,
 "nbformat_minor": 5
}
